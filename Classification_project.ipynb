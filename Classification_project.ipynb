{
  "nbformat": 4,
  "nbformat_minor": 0,
  "metadata": {
    "colab": {
      "name": "Untitled0.ipynb",
      "provenance": [],
      "collapsed_sections": [],
      "toc_visible": true
    },
    "kernelspec": {
      "name": "python3",
      "display_name": "Python 3"
    }
  },
  "cells": [
    {
      "cell_type": "markdown",
      "metadata": {
        "id": "W32nEZJZDCA3"
      },
      "source": [
        "New notebook for Datavis\n"
      ]
    },
    {
      "cell_type": "code",
      "metadata": {
        "id": "MpOj5KZIC3Se"
      },
      "source": [
        "import pandas as pd\n",
        "import numpy as np\n",
        "import matplotlib.pyplot as plt\n"
      ],
      "execution_count": null,
      "outputs": []
    },
    {
      "cell_type": "code",
      "metadata": {
        "id": "twb4Fq_9DseS"
      },
      "source": [
        "df = pd.read_csv('/Team_Ass_1.csv')"
      ],
      "execution_count": null,
      "outputs": []
    },
    {
      "cell_type": "code",
      "metadata": {
        "id": "DBf3DuuNEGyz",
        "outputId": "0d1ebe75-13b0-472e-8ee1-8edec658089f",
        "colab": {
          "base_uri": "https://localhost:8080/",
          "height": 204
        }
      },
      "source": [
        "df.isnull().sum()\n"
      ],
      "execution_count": null,
      "outputs": [
        {
          "output_type": "execute_result",
          "data": {
            "text/plain": [
              "Unnamed: 0       0\n",
              "Sl. No.          0\n",
              "YEAR             0\n",
              "MONTH           18\n",
              "DATE            57\n",
              "Mw            2504\n",
              "LAT (N)          0\n",
              "LONG (E)         0\n",
              "DEPTH (km)    2178\n",
              "REFERENCE     1582\n",
              "dtype: int64"
            ]
          },
          "metadata": {
            "tags": []
          },
          "execution_count": 311
        }
      ]
    },
    {
      "cell_type": "markdown",
      "metadata": {
        "id": "6JMo9fCFEoPY"
      },
      "source": [
        "Since Mw column have 1521 null values and the data-set is comparatively very large hence we removed them.\n"
      ]
    },
    {
      "cell_type": "code",
      "metadata": {
        "id": "b0-8JLL-Ettc"
      },
      "source": [
        "df.dropna(axis=0,subset=['Mw'],inplace=True)"
      ],
      "execution_count": null,
      "outputs": []
    },
    {
      "cell_type": "code",
      "metadata": {
        "id": "tvj_c57vFNiX",
        "outputId": "26d211e3-020c-4991-8ba4-a558a350ac4f",
        "colab": {
          "base_uri": "https://localhost:8080/",
          "height": 204
        }
      },
      "source": [
        "df.isnull().sum()"
      ],
      "execution_count": null,
      "outputs": [
        {
          "output_type": "execute_result",
          "data": {
            "text/plain": [
              "Unnamed: 0       0\n",
              "Sl. No.          0\n",
              "YEAR             0\n",
              "MONTH            8\n",
              "DATE            11\n",
              "Mw               0\n",
              "LAT (N)          0\n",
              "LONG (E)         0\n",
              "DEPTH (km)    1257\n",
              "REFERENCE     1582\n",
              "dtype: int64"
            ]
          },
          "metadata": {
            "tags": []
          },
          "execution_count": 313
        }
      ]
    },
    {
      "cell_type": "markdown",
      "metadata": {
        "id": "EX9ahMCrFaxA"
      },
      "source": [
        "\n",
        "\n",
        "```\n",
        "`# This is formatted as code`\n",
        "```\n",
        "\n",
        "Since months is not so important field and has only 8 remaining null values, it would be right to remove them too and so is the case with DATE"
      ]
    },
    {
      "cell_type": "code",
      "metadata": {
        "id": "9I1-6GObFTL_"
      },
      "source": [
        "df.dropna(axis=0,subset=['DATE'],inplace=True)"
      ],
      "execution_count": null,
      "outputs": []
    },
    {
      "cell_type": "code",
      "metadata": {
        "id": "EH-vlA5yFswr"
      },
      "source": [
        "df.dropna(axis=0,subset=['MONTH'],inplace=True)"
      ],
      "execution_count": null,
      "outputs": []
    },
    {
      "cell_type": "code",
      "metadata": {
        "id": "8lfFYFA0Fx9v",
        "outputId": "f2c0b2d3-eda4-46ba-940a-f1b67e14ad3e",
        "colab": {
          "base_uri": "https://localhost:8080/",
          "height": 204
        }
      },
      "source": [
        "df.isnull().sum()"
      ],
      "execution_count": null,
      "outputs": [
        {
          "output_type": "execute_result",
          "data": {
            "text/plain": [
              "Unnamed: 0       0\n",
              "Sl. No.          0\n",
              "YEAR             0\n",
              "MONTH            0\n",
              "DATE             0\n",
              "Mw               0\n",
              "LAT (N)          0\n",
              "LONG (E)         0\n",
              "DEPTH (km)    1252\n",
              "REFERENCE     1582\n",
              "dtype: int64"
            ]
          },
          "metadata": {
            "tags": []
          },
          "execution_count": 316
        }
      ]
    },
    {
      "cell_type": "code",
      "metadata": {
        "id": "_G_TZF3jF0bo",
        "outputId": "01bd9641-1960-4aa7-9312-5bf0a9634fe7",
        "colab": {
          "base_uri": "https://localhost:8080/",
          "height": 221
        }
      },
      "source": [
        "df.MONTH"
      ],
      "execution_count": null,
      "outputs": [
        {
          "output_type": "execute_result",
          "data": {
            "text/plain": [
              "0          0\n",
              "1          0\n",
              "2          0\n",
              "3          5\n",
              "4          5\n",
              "        ... \n",
              "52981    7.0\n",
              "52982    7.0\n",
              "52983    7.0\n",
              "52984    7.0\n",
              "52985    7.0\n",
              "Name: MONTH, Length: 50471, dtype: object"
            ]
          },
          "metadata": {
            "tags": []
          },
          "execution_count": 317
        }
      ]
    },
    {
      "cell_type": "markdown",
      "metadata": {
        "id": "lfAZAkFbGOLP"
      },
      "source": [
        "Data cleaning needs to be done here as Months need to be between 1-12 only"
      ]
    },
    {
      "cell_type": "code",
      "metadata": {
        "id": "Z10kSen-GM7i"
      },
      "source": [
        "check = dict()\n",
        "for i in df.MONTH:\n",
        "  check[i] = 0\n",
        "for i in df.MONTH:\n",
        "  check[i] += 1"
      ],
      "execution_count": null,
      "outputs": []
    },
    {
      "cell_type": "code",
      "metadata": {
        "id": "DwwnvUk0MURP",
        "outputId": "be290707-f976-4077-dff4-5d235bc07687",
        "colab": {
          "base_uri": "https://localhost:8080/",
          "height": 629
        }
      },
      "source": [
        "check"
      ],
      "execution_count": null,
      "outputs": [
        {
          "output_type": "execute_result",
          "data": {
            "text/plain": [
              "{' ': 2,\n",
              " '0': 8,\n",
              " '00': 25,\n",
              " '01': 1565,\n",
              " '02': 1428,\n",
              " '03': 1606,\n",
              " '04': 1621,\n",
              " '05': 1532,\n",
              " '06': 1307,\n",
              " '07': 1544,\n",
              " '08': 1554,\n",
              " '09': 1358,\n",
              " '1': 1167,\n",
              " '1.0': 3443,\n",
              " '10': 2239,\n",
              " '10.0': 2206,\n",
              " '11': 2595,\n",
              " '11.0': 1056,\n",
              " '12': 2554,\n",
              " '12.0': 2618,\n",
              " '2': 1031,\n",
              " '2.0': 1449,\n",
              " '3': 1139,\n",
              " '3.0': 1751,\n",
              " '4': 1129,\n",
              " '4.0': 1497,\n",
              " '5': 991,\n",
              " '5.0': 1301,\n",
              " '6': 891,\n",
              " '6.0': 1221,\n",
              " '7': 1139,\n",
              " '7.0': 1284,\n",
              " '8': 1043,\n",
              " '8.0': 1200,\n",
              " '9': 950,\n",
              " '9.0': 1027}"
            ]
          },
          "metadata": {
            "tags": []
          },
          "execution_count": 319
        }
      ]
    },
    {
      "cell_type": "markdown",
      "metadata": {
        "id": "YmwwP0j9NHdE"
      },
      "source": [
        "O, 00,' ', these need to be removed as they imply no month, and number of these values are only 2+8+25 which can be removed\n"
      ]
    },
    {
      "cell_type": "code",
      "metadata": {
        "id": "Xog7-S3tM_Ma"
      },
      "source": [
        "df.drop(df[df['MONTH'] == '0'].index,inplace=True)\n"
      ],
      "execution_count": null,
      "outputs": []
    },
    {
      "cell_type": "code",
      "metadata": {
        "id": "NmmxGgwekRiM"
      },
      "source": [
        "df.drop(df[df['MONTH'] == ' '].index,inplace=True)\n"
      ],
      "execution_count": null,
      "outputs": []
    },
    {
      "cell_type": "code",
      "metadata": {
        "id": "H45zuqFHkrIN"
      },
      "source": [
        "df.drop(df[df['MONTH'] == '00'].index,inplace=True)\n"
      ],
      "execution_count": null,
      "outputs": []
    },
    {
      "cell_type": "code",
      "metadata": {
        "id": "npbpGwDWkusy"
      },
      "source": [
        "check = dict()\n",
        "for i in df.MONTH:\n",
        "  check[i] = 0\n",
        "for i in df.MONTH:\n",
        "  check[i] += 1"
      ],
      "execution_count": null,
      "outputs": []
    },
    {
      "cell_type": "code",
      "metadata": {
        "id": "blmjj5I3kxtT",
        "outputId": "e2b57779-3893-4916-c565-88906578262c",
        "colab": {
          "base_uri": "https://localhost:8080/",
          "height": 578
        }
      },
      "source": [
        "check\n"
      ],
      "execution_count": null,
      "outputs": [
        {
          "output_type": "execute_result",
          "data": {
            "text/plain": [
              "{'01': 1565,\n",
              " '02': 1428,\n",
              " '03': 1606,\n",
              " '04': 1621,\n",
              " '05': 1532,\n",
              " '06': 1307,\n",
              " '07': 1544,\n",
              " '08': 1554,\n",
              " '09': 1358,\n",
              " '1': 1167,\n",
              " '1.0': 3443,\n",
              " '10': 2239,\n",
              " '10.0': 2206,\n",
              " '11': 2595,\n",
              " '11.0': 1056,\n",
              " '12': 2554,\n",
              " '12.0': 2618,\n",
              " '2': 1031,\n",
              " '2.0': 1449,\n",
              " '3': 1139,\n",
              " '3.0': 1751,\n",
              " '4': 1129,\n",
              " '4.0': 1497,\n",
              " '5': 991,\n",
              " '5.0': 1301,\n",
              " '6': 891,\n",
              " '6.0': 1221,\n",
              " '7': 1139,\n",
              " '7.0': 1284,\n",
              " '8': 1043,\n",
              " '8.0': 1200,\n",
              " '9': 950,\n",
              " '9.0': 1027}"
            ]
          },
          "metadata": {
            "tags": []
          },
          "execution_count": 324
        }
      ]
    },
    {
      "cell_type": "markdown",
      "metadata": {
        "id": "q2RkhHbPk0TM"
      },
      "source": [
        "Converting the datatype into int will get all the values from 1-12"
      ]
    },
    {
      "cell_type": "code",
      "metadata": {
        "id": "3MExepsKky3O",
        "outputId": "39331047-c41a-4bd4-9941-08aeafd24206",
        "colab": {
          "base_uri": "https://localhost:8080/",
          "height": 221
        }
      },
      "source": [
        "df.MONTH.astype(float)"
      ],
      "execution_count": null,
      "outputs": [
        {
          "output_type": "execute_result",
          "data": {
            "text/plain": [
              "3        5.0\n",
              "4        5.0\n",
              "9        6.0\n",
              "17       2.0\n",
              "20       2.0\n",
              "        ... \n",
              "52981    7.0\n",
              "52982    7.0\n",
              "52983    7.0\n",
              "52984    7.0\n",
              "52985    7.0\n",
              "Name: MONTH, Length: 50436, dtype: float64"
            ]
          },
          "metadata": {
            "tags": []
          },
          "execution_count": 325
        }
      ]
    },
    {
      "cell_type": "code",
      "metadata": {
        "id": "fKuZ18Rzk_WG"
      },
      "source": [
        "df['MONTH'] = df['MONTH'].astype(float)"
      ],
      "execution_count": null,
      "outputs": []
    },
    {
      "cell_type": "code",
      "metadata": {
        "id": "NNtnt7T2lkEK",
        "outputId": "815e73ce-e2e7-4bb7-fbd8-732f22dc4002",
        "colab": {
          "base_uri": "https://localhost:8080/",
          "height": 419
        }
      },
      "source": [
        "df"
      ],
      "execution_count": null,
      "outputs": [
        {
          "output_type": "execute_result",
          "data": {
            "text/html": [
              "<div>\n",
              "<style scoped>\n",
              "    .dataframe tbody tr th:only-of-type {\n",
              "        vertical-align: middle;\n",
              "    }\n",
              "\n",
              "    .dataframe tbody tr th {\n",
              "        vertical-align: top;\n",
              "    }\n",
              "\n",
              "    .dataframe thead th {\n",
              "        text-align: right;\n",
              "    }\n",
              "</style>\n",
              "<table border=\"1\" class=\"dataframe\">\n",
              "  <thead>\n",
              "    <tr style=\"text-align: right;\">\n",
              "      <th></th>\n",
              "      <th>Unnamed: 0</th>\n",
              "      <th>Sl. No.</th>\n",
              "      <th>YEAR</th>\n",
              "      <th>MONTH</th>\n",
              "      <th>DATE</th>\n",
              "      <th>Mw</th>\n",
              "      <th>LAT (N)</th>\n",
              "      <th>LONG (E)</th>\n",
              "      <th>DEPTH (km)</th>\n",
              "      <th>REFERENCE</th>\n",
              "    </tr>\n",
              "  </thead>\n",
              "  <tbody>\n",
              "    <tr>\n",
              "      <th>3</th>\n",
              "      <td>3</td>\n",
              "      <td>4</td>\n",
              "      <td>26</td>\n",
              "      <td>5.0</td>\n",
              "      <td>10.0</td>\n",
              "      <td>6.1397</td>\n",
              "      <td>17.3</td>\n",
              "      <td>80.1</td>\n",
              "      <td>NaN</td>\n",
              "      <td>NEIC</td>\n",
              "    </tr>\n",
              "    <tr>\n",
              "      <th>4</th>\n",
              "      <td>4</td>\n",
              "      <td>5</td>\n",
              "      <td>26</td>\n",
              "      <td>5.0</td>\n",
              "      <td>10.0</td>\n",
              "      <td>6.1397</td>\n",
              "      <td>26.0</td>\n",
              "      <td>97.0</td>\n",
              "      <td>80.0</td>\n",
              "      <td>G-R</td>\n",
              "    </tr>\n",
              "    <tr>\n",
              "      <th>9</th>\n",
              "      <td>9</td>\n",
              "      <td>10</td>\n",
              "      <td>819</td>\n",
              "      <td>6.0</td>\n",
              "      <td>1.0</td>\n",
              "      <td>7.3000</td>\n",
              "      <td>65.4</td>\n",
              "      <td>36.4</td>\n",
              "      <td>0.0</td>\n",
              "      <td>Dr STGR</td>\n",
              "    </tr>\n",
              "    <tr>\n",
              "      <th>17</th>\n",
              "      <td>17</td>\n",
              "      <td>3</td>\n",
              "      <td>1102</td>\n",
              "      <td>2.0</td>\n",
              "      <td>28.0</td>\n",
              "      <td>5.6000</td>\n",
              "      <td>62.2</td>\n",
              "      <td>34.4</td>\n",
              "      <td>0.0</td>\n",
              "      <td>Dr STGR</td>\n",
              "    </tr>\n",
              "    <tr>\n",
              "      <th>20</th>\n",
              "      <td>20</td>\n",
              "      <td>6</td>\n",
              "      <td>1364</td>\n",
              "      <td>2.0</td>\n",
              "      <td>10.0</td>\n",
              "      <td>5.9000</td>\n",
              "      <td>61.7</td>\n",
              "      <td>34.9</td>\n",
              "      <td>0.0</td>\n",
              "      <td>Dr STGR</td>\n",
              "    </tr>\n",
              "    <tr>\n",
              "      <th>...</th>\n",
              "      <td>...</td>\n",
              "      <td>...</td>\n",
              "      <td>...</td>\n",
              "      <td>...</td>\n",
              "      <td>...</td>\n",
              "      <td>...</td>\n",
              "      <td>...</td>\n",
              "      <td>...</td>\n",
              "      <td>...</td>\n",
              "      <td>...</td>\n",
              "    </tr>\n",
              "    <tr>\n",
              "      <th>52981</th>\n",
              "      <td>52984</td>\n",
              "      <td>52970</td>\n",
              "      <td>2019</td>\n",
              "      <td>7.0</td>\n",
              "      <td>28.0</td>\n",
              "      <td>3.2000</td>\n",
              "      <td>32.8ï¿½N</td>\n",
              "      <td>78.4ï¿½E</td>\n",
              "      <td>10.0</td>\n",
              "      <td>NaN</td>\n",
              "    </tr>\n",
              "    <tr>\n",
              "      <th>52982</th>\n",
              "      <td>52985</td>\n",
              "      <td>52971</td>\n",
              "      <td>2019</td>\n",
              "      <td>7.0</td>\n",
              "      <td>28.0</td>\n",
              "      <td>3.6000</td>\n",
              "      <td>25.5ï¿½N</td>\n",
              "      <td>90.4ï¿½E</td>\n",
              "      <td>70.0</td>\n",
              "      <td>NaN</td>\n",
              "    </tr>\n",
              "    <tr>\n",
              "      <th>52983</th>\n",
              "      <td>52986</td>\n",
              "      <td>52972</td>\n",
              "      <td>2019</td>\n",
              "      <td>7.0</td>\n",
              "      <td>28.0</td>\n",
              "      <td>4.0000</td>\n",
              "      <td>23.2ï¿½N</td>\n",
              "      <td>86.5ï¿½E</td>\n",
              "      <td>22.0</td>\n",
              "      <td>NaN</td>\n",
              "    </tr>\n",
              "    <tr>\n",
              "      <th>52984</th>\n",
              "      <td>52987</td>\n",
              "      <td>52973</td>\n",
              "      <td>2019</td>\n",
              "      <td>7.0</td>\n",
              "      <td>29.0</td>\n",
              "      <td>4.3000</td>\n",
              "      <td>32.8ï¿½N</td>\n",
              "      <td>76.4ï¿½E</td>\n",
              "      <td>20.0</td>\n",
              "      <td>NaN</td>\n",
              "    </tr>\n",
              "    <tr>\n",
              "      <th>52985</th>\n",
              "      <td>52988</td>\n",
              "      <td>52974</td>\n",
              "      <td>2019</td>\n",
              "      <td>7.0</td>\n",
              "      <td>31.0</td>\n",
              "      <td>3.0000</td>\n",
              "      <td>20.0ï¿½N</td>\n",
              "      <td>72.8ï¿½E</td>\n",
              "      <td>10.0</td>\n",
              "      <td>NaN</td>\n",
              "    </tr>\n",
              "  </tbody>\n",
              "</table>\n",
              "<p>50436 rows × 10 columns</p>\n",
              "</div>"
            ],
            "text/plain": [
              "       Unnamed: 0  Sl. No.  YEAR  ...  LONG (E)  DEPTH (km)  REFERENCE\n",
              "3               3        4    26  ...      80.1         NaN       NEIC\n",
              "4               4        5    26  ...      97.0        80.0        G-R\n",
              "9               9       10   819  ...      36.4         0.0    Dr STGR\n",
              "17             17        3  1102  ...      34.4         0.0    Dr STGR\n",
              "20             20        6  1364  ...      34.9         0.0    Dr STGR\n",
              "...           ...      ...   ...  ...       ...         ...        ...\n",
              "52981       52984    52970  2019  ...  78.4ï¿½E        10.0        NaN\n",
              "52982       52985    52971  2019  ...  90.4ï¿½E        70.0        NaN\n",
              "52983       52986    52972  2019  ...  86.5ï¿½E        22.0        NaN\n",
              "52984       52987    52973  2019  ...  76.4ï¿½E        20.0        NaN\n",
              "52985       52988    52974  2019  ...  72.8ï¿½E        10.0        NaN\n",
              "\n",
              "[50436 rows x 10 columns]"
            ]
          },
          "metadata": {
            "tags": []
          },
          "execution_count": 327
        }
      ]
    },
    {
      "cell_type": "code",
      "metadata": {
        "id": "zedOKM_9mPQX"
      },
      "source": [
        "df.MONTH =  pd.to_numeric(df.MONTH,downcast='integer')"
      ],
      "execution_count": null,
      "outputs": []
    },
    {
      "cell_type": "code",
      "metadata": {
        "id": "nSU4kTqXmm42",
        "outputId": "2026a154-ff90-4afe-c005-4e7df1b65592",
        "colab": {
          "base_uri": "https://localhost:8080/",
          "height": 221
        }
      },
      "source": [
        "df.MONTH.astype"
      ],
      "execution_count": null,
      "outputs": [
        {
          "output_type": "execute_result",
          "data": {
            "text/plain": [
              "<bound method NDFrame.astype of 3        5\n",
              "4        5\n",
              "9        6\n",
              "17       2\n",
              "20       2\n",
              "        ..\n",
              "52981    7\n",
              "52982    7\n",
              "52983    7\n",
              "52984    7\n",
              "52985    7\n",
              "Name: MONTH, Length: 50436, dtype: int8>"
            ]
          },
          "metadata": {
            "tags": []
          },
          "execution_count": 329
        }
      ]
    },
    {
      "cell_type": "code",
      "metadata": {
        "id": "iT6k8Pt-mpeM",
        "outputId": "cdb817f0-43c1-4917-83d6-4d7a54864dd4",
        "colab": {
          "base_uri": "https://localhost:8080/",
          "height": 204
        }
      },
      "source": [
        "df.isnull().sum()"
      ],
      "execution_count": null,
      "outputs": [
        {
          "output_type": "execute_result",
          "data": {
            "text/plain": [
              "Unnamed: 0       0\n",
              "Sl. No.          0\n",
              "YEAR             0\n",
              "MONTH            0\n",
              "DATE             0\n",
              "Mw               0\n",
              "LAT (N)          0\n",
              "LONG (E)         0\n",
              "DEPTH (km)    1251\n",
              "REFERENCE     1582\n",
              "dtype: int64"
            ]
          },
          "metadata": {
            "tags": []
          },
          "execution_count": 330
        }
      ]
    },
    {
      "cell_type": "code",
      "metadata": {
        "id": "coghZPXymtGW",
        "outputId": "7e9f1b47-4075-48c2-ddd9-94065ac2c19d",
        "colab": {
          "base_uri": "https://localhost:8080/",
          "height": 221
        }
      },
      "source": [
        "df.YEAR.astype\n"
      ],
      "execution_count": null,
      "outputs": [
        {
          "output_type": "execute_result",
          "data": {
            "text/plain": [
              "<bound method NDFrame.astype of 3          26\n",
              "4          26\n",
              "9         819\n",
              "17       1102\n",
              "20       1364\n",
              "         ... \n",
              "52981    2019\n",
              "52982    2019\n",
              "52983    2019\n",
              "52984    2019\n",
              "52985    2019\n",
              "Name: YEAR, Length: 50436, dtype: int64>"
            ]
          },
          "metadata": {
            "tags": []
          },
          "execution_count": 331
        }
      ]
    },
    {
      "cell_type": "markdown",
      "metadata": {
        "id": "wph_-FNAnFYw"
      },
      "source": [
        ""
      ]
    },
    {
      "cell_type": "code",
      "metadata": {
        "id": "OlaOT9XfnAQf",
        "outputId": "9cfcd195-23b7-4acf-a379-16f0cff45eb3",
        "colab": {
          "base_uri": "https://localhost:8080/",
          "height": 421
        }
      },
      "source": [
        "df[df['YEAR'] < 1600]"
      ],
      "execution_count": null,
      "outputs": [
        {
          "output_type": "execute_result",
          "data": {
            "text/html": [
              "<div>\n",
              "<style scoped>\n",
              "    .dataframe tbody tr th:only-of-type {\n",
              "        vertical-align: middle;\n",
              "    }\n",
              "\n",
              "    .dataframe tbody tr th {\n",
              "        vertical-align: top;\n",
              "    }\n",
              "\n",
              "    .dataframe thead th {\n",
              "        text-align: right;\n",
              "    }\n",
              "</style>\n",
              "<table border=\"1\" class=\"dataframe\">\n",
              "  <thead>\n",
              "    <tr style=\"text-align: right;\">\n",
              "      <th></th>\n",
              "      <th>Unnamed: 0</th>\n",
              "      <th>Sl. No.</th>\n",
              "      <th>YEAR</th>\n",
              "      <th>MONTH</th>\n",
              "      <th>DATE</th>\n",
              "      <th>Mw</th>\n",
              "      <th>LAT (N)</th>\n",
              "      <th>LONG (E)</th>\n",
              "      <th>DEPTH (km)</th>\n",
              "      <th>REFERENCE</th>\n",
              "    </tr>\n",
              "  </thead>\n",
              "  <tbody>\n",
              "    <tr>\n",
              "      <th>3</th>\n",
              "      <td>3</td>\n",
              "      <td>4</td>\n",
              "      <td>26</td>\n",
              "      <td>5</td>\n",
              "      <td>10.0</td>\n",
              "      <td>6.1397</td>\n",
              "      <td>17.3</td>\n",
              "      <td>80.1</td>\n",
              "      <td>NaN</td>\n",
              "      <td>NEIC</td>\n",
              "    </tr>\n",
              "    <tr>\n",
              "      <th>4</th>\n",
              "      <td>4</td>\n",
              "      <td>5</td>\n",
              "      <td>26</td>\n",
              "      <td>5</td>\n",
              "      <td>10.0</td>\n",
              "      <td>6.1397</td>\n",
              "      <td>26.0</td>\n",
              "      <td>97.0</td>\n",
              "      <td>80.0</td>\n",
              "      <td>G-R</td>\n",
              "    </tr>\n",
              "    <tr>\n",
              "      <th>9</th>\n",
              "      <td>9</td>\n",
              "      <td>10</td>\n",
              "      <td>819</td>\n",
              "      <td>6</td>\n",
              "      <td>1.0</td>\n",
              "      <td>7.3000</td>\n",
              "      <td>65.4</td>\n",
              "      <td>36.4</td>\n",
              "      <td>0.0</td>\n",
              "      <td>Dr STGR</td>\n",
              "    </tr>\n",
              "    <tr>\n",
              "      <th>17</th>\n",
              "      <td>17</td>\n",
              "      <td>3</td>\n",
              "      <td>1102</td>\n",
              "      <td>2</td>\n",
              "      <td>28.0</td>\n",
              "      <td>5.6000</td>\n",
              "      <td>62.2</td>\n",
              "      <td>34.4</td>\n",
              "      <td>0.0</td>\n",
              "      <td>Dr STGR</td>\n",
              "    </tr>\n",
              "    <tr>\n",
              "      <th>20</th>\n",
              "      <td>20</td>\n",
              "      <td>6</td>\n",
              "      <td>1364</td>\n",
              "      <td>2</td>\n",
              "      <td>10.0</td>\n",
              "      <td>5.9000</td>\n",
              "      <td>61.7</td>\n",
              "      <td>34.9</td>\n",
              "      <td>0.0</td>\n",
              "      <td>Dr STGR</td>\n",
              "    </tr>\n",
              "    <tr>\n",
              "      <th>21</th>\n",
              "      <td>21</td>\n",
              "      <td>7</td>\n",
              "      <td>1411</td>\n",
              "      <td>9</td>\n",
              "      <td>29.0</td>\n",
              "      <td>7.7000</td>\n",
              "      <td>90.2</td>\n",
              "      <td>30.0</td>\n",
              "      <td>0.0</td>\n",
              "      <td>Dr STGR</td>\n",
              "    </tr>\n",
              "    <tr>\n",
              "      <th>24</th>\n",
              "      <td>24</td>\n",
              "      <td>10</td>\n",
              "      <td>1504</td>\n",
              "      <td>6</td>\n",
              "      <td>1.0</td>\n",
              "      <td>7.7000</td>\n",
              "      <td>69.0</td>\n",
              "      <td>34.5</td>\n",
              "      <td>0.0</td>\n",
              "      <td>Dr STGR</td>\n",
              "    </tr>\n",
              "    <tr>\n",
              "      <th>25</th>\n",
              "      <td>25</td>\n",
              "      <td>11</td>\n",
              "      <td>1505</td>\n",
              "      <td>7</td>\n",
              "      <td>6.0</td>\n",
              "      <td>8.0000</td>\n",
              "      <td>69.0</td>\n",
              "      <td>34.0</td>\n",
              "      <td>0.0</td>\n",
              "      <td>Dr STGR</td>\n",
              "    </tr>\n",
              "    <tr>\n",
              "      <th>26</th>\n",
              "      <td>26</td>\n",
              "      <td>12</td>\n",
              "      <td>1505</td>\n",
              "      <td>7</td>\n",
              "      <td>6.0</td>\n",
              "      <td>5.0000</td>\n",
              "      <td>78.0</td>\n",
              "      <td>27.2</td>\n",
              "      <td>0.0</td>\n",
              "      <td>Dr STGR</td>\n",
              "    </tr>\n",
              "    <tr>\n",
              "      <th>27</th>\n",
              "      <td>27</td>\n",
              "      <td>13</td>\n",
              "      <td>1512</td>\n",
              "      <td>10</td>\n",
              "      <td>8.0</td>\n",
              "      <td>6.8000</td>\n",
              "      <td>98.5</td>\n",
              "      <td>25.0</td>\n",
              "      <td>0.0</td>\n",
              "      <td>Dr STGR</td>\n",
              "    </tr>\n",
              "    <tr>\n",
              "      <th>28</th>\n",
              "      <td>28</td>\n",
              "      <td>14</td>\n",
              "      <td>1519</td>\n",
              "      <td>1</td>\n",
              "      <td>3.0</td>\n",
              "      <td>5.7000</td>\n",
              "      <td>71.8</td>\n",
              "      <td>34.8</td>\n",
              "      <td>0.0</td>\n",
              "      <td>Dr STGR</td>\n",
              "    </tr>\n",
              "    <tr>\n",
              "      <th>29</th>\n",
              "      <td>29</td>\n",
              "      <td>15</td>\n",
              "      <td>1548</td>\n",
              "      <td>2</td>\n",
              "      <td>1.0</td>\n",
              "      <td>6.5000</td>\n",
              "      <td>94.9</td>\n",
              "      <td>26.75</td>\n",
              "      <td>0.0</td>\n",
              "      <td>Dr STGR</td>\n",
              "    </tr>\n",
              "  </tbody>\n",
              "</table>\n",
              "</div>"
            ],
            "text/plain": [
              "    Unnamed: 0  Sl. No.  YEAR  MONTH  ...  LAT (N)  LONG (E) DEPTH (km) REFERENCE\n",
              "3            3        4    26      5  ...     17.3      80.1        NaN      NEIC\n",
              "4            4        5    26      5  ...     26.0      97.0       80.0       G-R\n",
              "9            9       10   819      6  ...     65.4      36.4        0.0   Dr STGR\n",
              "17          17        3  1102      2  ...     62.2      34.4        0.0   Dr STGR\n",
              "20          20        6  1364      2  ...     61.7      34.9        0.0   Dr STGR\n",
              "21          21        7  1411      9  ...     90.2      30.0        0.0   Dr STGR\n",
              "24          24       10  1504      6  ...     69.0      34.5        0.0   Dr STGR\n",
              "25          25       11  1505      7  ...     69.0      34.0        0.0   Dr STGR\n",
              "26          26       12  1505      7  ...     78.0      27.2        0.0   Dr STGR\n",
              "27          27       13  1512     10  ...     98.5      25.0        0.0   Dr STGR\n",
              "28          28       14  1519      1  ...     71.8      34.8        0.0   Dr STGR\n",
              "29          29       15  1548      2  ...     94.9     26.75        0.0   Dr STGR\n",
              "\n",
              "[12 rows x 10 columns]"
            ]
          },
          "metadata": {
            "tags": []
          },
          "execution_count": 332
        }
      ]
    },
    {
      "cell_type": "markdown",
      "metadata": {
        "id": "A6MoRwv5nRYz"
      },
      "source": [
        ""
      ]
    },
    {
      "cell_type": "code",
      "metadata": {
        "id": "bKi5RtRKnJMu",
        "outputId": "d98cad29-41c7-4f1c-8120-f6b139b500f2",
        "colab": {
          "base_uri": "https://localhost:8080/",
          "height": 419
        }
      },
      "source": [
        "df[df['DEPTH (km)'] < 0.4]"
      ],
      "execution_count": null,
      "outputs": [
        {
          "output_type": "execute_result",
          "data": {
            "text/html": [
              "<div>\n",
              "<style scoped>\n",
              "    .dataframe tbody tr th:only-of-type {\n",
              "        vertical-align: middle;\n",
              "    }\n",
              "\n",
              "    .dataframe tbody tr th {\n",
              "        vertical-align: top;\n",
              "    }\n",
              "\n",
              "    .dataframe thead th {\n",
              "        text-align: right;\n",
              "    }\n",
              "</style>\n",
              "<table border=\"1\" class=\"dataframe\">\n",
              "  <thead>\n",
              "    <tr style=\"text-align: right;\">\n",
              "      <th></th>\n",
              "      <th>Unnamed: 0</th>\n",
              "      <th>Sl. No.</th>\n",
              "      <th>YEAR</th>\n",
              "      <th>MONTH</th>\n",
              "      <th>DATE</th>\n",
              "      <th>Mw</th>\n",
              "      <th>LAT (N)</th>\n",
              "      <th>LONG (E)</th>\n",
              "      <th>DEPTH (km)</th>\n",
              "      <th>REFERENCE</th>\n",
              "    </tr>\n",
              "  </thead>\n",
              "  <tbody>\n",
              "    <tr>\n",
              "      <th>9</th>\n",
              "      <td>9</td>\n",
              "      <td>10</td>\n",
              "      <td>819</td>\n",
              "      <td>6</td>\n",
              "      <td>1.0</td>\n",
              "      <td>7.3</td>\n",
              "      <td>65.4</td>\n",
              "      <td>36.4</td>\n",
              "      <td>0.0</td>\n",
              "      <td>Dr STGR</td>\n",
              "    </tr>\n",
              "    <tr>\n",
              "      <th>17</th>\n",
              "      <td>17</td>\n",
              "      <td>3</td>\n",
              "      <td>1102</td>\n",
              "      <td>2</td>\n",
              "      <td>28.0</td>\n",
              "      <td>5.6</td>\n",
              "      <td>62.2</td>\n",
              "      <td>34.4</td>\n",
              "      <td>0.0</td>\n",
              "      <td>Dr STGR</td>\n",
              "    </tr>\n",
              "    <tr>\n",
              "      <th>20</th>\n",
              "      <td>20</td>\n",
              "      <td>6</td>\n",
              "      <td>1364</td>\n",
              "      <td>2</td>\n",
              "      <td>10.0</td>\n",
              "      <td>5.9</td>\n",
              "      <td>61.7</td>\n",
              "      <td>34.9</td>\n",
              "      <td>0.0</td>\n",
              "      <td>Dr STGR</td>\n",
              "    </tr>\n",
              "    <tr>\n",
              "      <th>21</th>\n",
              "      <td>21</td>\n",
              "      <td>7</td>\n",
              "      <td>1411</td>\n",
              "      <td>9</td>\n",
              "      <td>29.0</td>\n",
              "      <td>7.7</td>\n",
              "      <td>90.2</td>\n",
              "      <td>30.0</td>\n",
              "      <td>0.0</td>\n",
              "      <td>Dr STGR</td>\n",
              "    </tr>\n",
              "    <tr>\n",
              "      <th>24</th>\n",
              "      <td>24</td>\n",
              "      <td>10</td>\n",
              "      <td>1504</td>\n",
              "      <td>6</td>\n",
              "      <td>1.0</td>\n",
              "      <td>7.7</td>\n",
              "      <td>69.0</td>\n",
              "      <td>34.5</td>\n",
              "      <td>0.0</td>\n",
              "      <td>Dr STGR</td>\n",
              "    </tr>\n",
              "    <tr>\n",
              "      <th>...</th>\n",
              "      <td>...</td>\n",
              "      <td>...</td>\n",
              "      <td>...</td>\n",
              "      <td>...</td>\n",
              "      <td>...</td>\n",
              "      <td>...</td>\n",
              "      <td>...</td>\n",
              "      <td>...</td>\n",
              "      <td>...</td>\n",
              "      <td>...</td>\n",
              "    </tr>\n",
              "    <tr>\n",
              "      <th>50349</th>\n",
              "      <td>50352</td>\n",
              "      <td>50338</td>\n",
              "      <td>2008</td>\n",
              "      <td>12</td>\n",
              "      <td>29.0</td>\n",
              "      <td>4.8</td>\n",
              "      <td>99.440</td>\n",
              "      <td>019.72</td>\n",
              "      <td>0.0</td>\n",
              "      <td>Dr STGR</td>\n",
              "    </tr>\n",
              "    <tr>\n",
              "      <th>50351</th>\n",
              "      <td>50354</td>\n",
              "      <td>50340</td>\n",
              "      <td>2008</td>\n",
              "      <td>12</td>\n",
              "      <td>29.0</td>\n",
              "      <td>4.3</td>\n",
              "      <td>70.070</td>\n",
              "      <td>036.50</td>\n",
              "      <td>0.0</td>\n",
              "      <td>Dr STGR</td>\n",
              "    </tr>\n",
              "    <tr>\n",
              "      <th>50353</th>\n",
              "      <td>50356</td>\n",
              "      <td>50342</td>\n",
              "      <td>2008</td>\n",
              "      <td>12</td>\n",
              "      <td>29.0</td>\n",
              "      <td>5.2</td>\n",
              "      <td>64.430</td>\n",
              "      <td>023.45</td>\n",
              "      <td>0.0</td>\n",
              "      <td>Dr STGR</td>\n",
              "    </tr>\n",
              "    <tr>\n",
              "      <th>50357</th>\n",
              "      <td>50360</td>\n",
              "      <td>50346</td>\n",
              "      <td>2008</td>\n",
              "      <td>12</td>\n",
              "      <td>31.0</td>\n",
              "      <td>4.8</td>\n",
              "      <td>67.500</td>\n",
              "      <td>030.45</td>\n",
              "      <td>0.0</td>\n",
              "      <td>Dr STGR</td>\n",
              "    </tr>\n",
              "    <tr>\n",
              "      <th>50361</th>\n",
              "      <td>50364</td>\n",
              "      <td>50350</td>\n",
              "      <td>2008</td>\n",
              "      <td>12</td>\n",
              "      <td>31.0</td>\n",
              "      <td>4.3</td>\n",
              "      <td>70.350</td>\n",
              "      <td>037.21</td>\n",
              "      <td>0.0</td>\n",
              "      <td>Dr STGR</td>\n",
              "    </tr>\n",
              "  </tbody>\n",
              "</table>\n",
              "<p>10845 rows × 10 columns</p>\n",
              "</div>"
            ],
            "text/plain": [
              "       Unnamed: 0  Sl. No.  YEAR  MONTH  ...  LAT (N)  LONG (E) DEPTH (km) REFERENCE\n",
              "9               9       10   819      6  ...     65.4      36.4        0.0   Dr STGR\n",
              "17             17        3  1102      2  ...     62.2      34.4        0.0   Dr STGR\n",
              "20             20        6  1364      2  ...     61.7      34.9        0.0   Dr STGR\n",
              "21             21        7  1411      9  ...     90.2      30.0        0.0   Dr STGR\n",
              "24             24       10  1504      6  ...     69.0      34.5        0.0   Dr STGR\n",
              "...           ...      ...   ...    ...  ...      ...       ...        ...       ...\n",
              "50349       50352    50338  2008     12  ...   99.440    019.72        0.0   Dr STGR\n",
              "50351       50354    50340  2008     12  ...   70.070    036.50        0.0   Dr STGR\n",
              "50353       50356    50342  2008     12  ...   64.430    023.45        0.0   Dr STGR\n",
              "50357       50360    50346  2008     12  ...   67.500    030.45        0.0   Dr STGR\n",
              "50361       50364    50350  2008     12  ...   70.350    037.21        0.0   Dr STGR\n",
              "\n",
              "[10845 rows x 10 columns]"
            ]
          },
          "metadata": {
            "tags": []
          },
          "execution_count": 333
        }
      ]
    },
    {
      "cell_type": "code",
      "metadata": {
        "id": "MjTEwlsPnfNH",
        "outputId": "4d7d3db8-ce49-4b88-c9b9-396064eb06e9",
        "colab": {
          "base_uri": "https://localhost:8080/",
          "height": 170
        }
      },
      "source": [
        "df['DEPTH (km)'].describe()\n"
      ],
      "execution_count": null,
      "outputs": [
        {
          "output_type": "execute_result",
          "data": {
            "text/plain": [
              "count    49185.000000\n",
              "mean        45.677553\n",
              "std         56.108936\n",
              "min          0.000000\n",
              "25%         10.000000\n",
              "50%         33.000000\n",
              "75%         55.300000\n",
              "max        831.200000\n",
              "Name: DEPTH (km), dtype: float64"
            ]
          },
          "metadata": {
            "tags": []
          },
          "execution_count": 334
        }
      ]
    },
    {
      "cell_type": "code",
      "metadata": {
        "id": "RysdQPy0nvuo",
        "outputId": "466ea62a-1c34-4146-f982-a3f52dc4d201",
        "colab": {
          "base_uri": "https://localhost:8080/",
          "height": 34
        }
      },
      "source": [
        "df['DEPTH (km)'].isnull().sum()"
      ],
      "execution_count": null,
      "outputs": [
        {
          "output_type": "execute_result",
          "data": {
            "text/plain": [
              "1251"
            ]
          },
          "metadata": {
            "tags": []
          },
          "execution_count": 335
        }
      ]
    },
    {
      "cell_type": "markdown",
      "metadata": {
        "id": "S_MMuKESn7xk"
      },
      "source": [
        "Ther are 1251 entries which are null in the DEPTH column, these need to be filled with some value. Since the data has a variance of 56, which very high, filling it with the mean will not be the right method"
      ]
    },
    {
      "cell_type": "code",
      "metadata": {
        "id": "Md6Y-1_Xn6sD",
        "outputId": "db6adcde-4eeb-4ec7-91d7-faf316345189",
        "colab": {
          "base_uri": "https://localhost:8080/",
          "height": 170
        }
      },
      "source": [
        "df[df['YEAR'] < 1600]['DEPTH (km)'].describe()"
      ],
      "execution_count": null,
      "outputs": [
        {
          "output_type": "execute_result",
          "data": {
            "text/plain": [
              "count    11.000000\n",
              "mean      7.272727\n",
              "std      24.120908\n",
              "min       0.000000\n",
              "25%       0.000000\n",
              "50%       0.000000\n",
              "75%       0.000000\n",
              "max      80.000000\n",
              "Name: DEPTH (km), dtype: float64"
            ]
          },
          "metadata": {
            "tags": []
          },
          "execution_count": 336
        }
      ]
    },
    {
      "cell_type": "code",
      "metadata": {
        "id": "1UDwn5n-obNY",
        "outputId": "c59afc58-47cd-457b-9b80-850e13f97bc7",
        "colab": {
          "base_uri": "https://localhost:8080/",
          "height": 204
        }
      },
      "source": [
        "df[df['YEAR'].between(1600,1700,inclusive=True)]"
      ],
      "execution_count": null,
      "outputs": [
        {
          "output_type": "execute_result",
          "data": {
            "text/html": [
              "<div>\n",
              "<style scoped>\n",
              "    .dataframe tbody tr th:only-of-type {\n",
              "        vertical-align: middle;\n",
              "    }\n",
              "\n",
              "    .dataframe tbody tr th {\n",
              "        vertical-align: top;\n",
              "    }\n",
              "\n",
              "    .dataframe thead th {\n",
              "        text-align: right;\n",
              "    }\n",
              "</style>\n",
              "<table border=\"1\" class=\"dataframe\">\n",
              "  <thead>\n",
              "    <tr style=\"text-align: right;\">\n",
              "      <th></th>\n",
              "      <th>Unnamed: 0</th>\n",
              "      <th>Sl. No.</th>\n",
              "      <th>YEAR</th>\n",
              "      <th>MONTH</th>\n",
              "      <th>DATE</th>\n",
              "      <th>Mw</th>\n",
              "      <th>LAT (N)</th>\n",
              "      <th>LONG (E)</th>\n",
              "      <th>DEPTH (km)</th>\n",
              "      <th>REFERENCE</th>\n",
              "    </tr>\n",
              "  </thead>\n",
              "  <tbody>\n",
              "    <tr>\n",
              "      <th>32</th>\n",
              "      <td>32</td>\n",
              "      <td>18</td>\n",
              "      <td>1668</td>\n",
              "      <td>5</td>\n",
              "      <td>6.0</td>\n",
              "      <td>7.8</td>\n",
              "      <td>19.1</td>\n",
              "      <td>73.2</td>\n",
              "      <td>NaN</td>\n",
              "      <td>NEIC</td>\n",
              "    </tr>\n",
              "    <tr>\n",
              "      <th>34</th>\n",
              "      <td>34</td>\n",
              "      <td>20</td>\n",
              "      <td>1669</td>\n",
              "      <td>6</td>\n",
              "      <td>22.0</td>\n",
              "      <td>6.5</td>\n",
              "      <td>77.0</td>\n",
              "      <td>35.0</td>\n",
              "      <td>0.0</td>\n",
              "      <td>Dr STGR</td>\n",
              "    </tr>\n",
              "    <tr>\n",
              "      <th>35</th>\n",
              "      <td>35</td>\n",
              "      <td>21</td>\n",
              "      <td>1669</td>\n",
              "      <td>6</td>\n",
              "      <td>23.0</td>\n",
              "      <td>6.5</td>\n",
              "      <td>72.3</td>\n",
              "      <td>33.9</td>\n",
              "      <td>0.0</td>\n",
              "      <td>Dr STGR</td>\n",
              "    </tr>\n",
              "    <tr>\n",
              "      <th>40</th>\n",
              "      <td>40</td>\n",
              "      <td>26</td>\n",
              "      <td>1688</td>\n",
              "      <td>6</td>\n",
              "      <td>14.0</td>\n",
              "      <td>6.5</td>\n",
              "      <td>99.9</td>\n",
              "      <td>26.5</td>\n",
              "      <td>0.0</td>\n",
              "      <td>Dr STGR</td>\n",
              "    </tr>\n",
              "    <tr>\n",
              "      <th>41</th>\n",
              "      <td>41</td>\n",
              "      <td>27</td>\n",
              "      <td>1697</td>\n",
              "      <td>2</td>\n",
              "      <td>13.0</td>\n",
              "      <td>7.2</td>\n",
              "      <td>94.6</td>\n",
              "      <td>27.75</td>\n",
              "      <td>0.0</td>\n",
              "      <td>Dr STGR</td>\n",
              "    </tr>\n",
              "  </tbody>\n",
              "</table>\n",
              "</div>"
            ],
            "text/plain": [
              "    Unnamed: 0  Sl. No.  YEAR  MONTH  ...  LAT (N)  LONG (E) DEPTH (km) REFERENCE\n",
              "32          32       18  1668      5  ...     19.1      73.2        NaN      NEIC\n",
              "34          34       20  1669      6  ...     77.0      35.0        0.0   Dr STGR\n",
              "35          35       21  1669      6  ...     72.3      33.9        0.0   Dr STGR\n",
              "40          40       26  1688      6  ...     99.9      26.5        0.0   Dr STGR\n",
              "41          41       27  1697      2  ...     94.6     27.75        0.0   Dr STGR\n",
              "\n",
              "[5 rows x 10 columns]"
            ]
          },
          "metadata": {
            "tags": []
          },
          "execution_count": 337
        }
      ]
    },
    {
      "cell_type": "code",
      "metadata": {
        "id": "7Y4-XmmFopZa",
        "outputId": "1b825215-1860-4028-bf1b-f2b0b66cd803",
        "colab": {
          "base_uri": "https://localhost:8080/",
          "height": 638
        }
      },
      "source": [
        "df[df['YEAR'].between(1700,1800,inclusive=True)]\n"
      ],
      "execution_count": null,
      "outputs": [
        {
          "output_type": "execute_result",
          "data": {
            "text/html": [
              "<div>\n",
              "<style scoped>\n",
              "    .dataframe tbody tr th:only-of-type {\n",
              "        vertical-align: middle;\n",
              "    }\n",
              "\n",
              "    .dataframe tbody tr th {\n",
              "        vertical-align: top;\n",
              "    }\n",
              "\n",
              "    .dataframe thead th {\n",
              "        text-align: right;\n",
              "    }\n",
              "</style>\n",
              "<table border=\"1\" class=\"dataframe\">\n",
              "  <thead>\n",
              "    <tr style=\"text-align: right;\">\n",
              "      <th></th>\n",
              "      <th>Unnamed: 0</th>\n",
              "      <th>Sl. No.</th>\n",
              "      <th>YEAR</th>\n",
              "      <th>MONTH</th>\n",
              "      <th>DATE</th>\n",
              "      <th>Mw</th>\n",
              "      <th>LAT (N)</th>\n",
              "      <th>LONG (E)</th>\n",
              "      <th>DEPTH (km)</th>\n",
              "      <th>REFERENCE</th>\n",
              "    </tr>\n",
              "  </thead>\n",
              "  <tbody>\n",
              "    <tr>\n",
              "      <th>43</th>\n",
              "      <td>43</td>\n",
              "      <td>29</td>\n",
              "      <td>1705</td>\n",
              "      <td>2</td>\n",
              "      <td>4.0</td>\n",
              "      <td>7.0</td>\n",
              "      <td>72.15</td>\n",
              "      <td>21.75</td>\n",
              "      <td>0.0</td>\n",
              "      <td>Dr STGR</td>\n",
              "    </tr>\n",
              "    <tr>\n",
              "      <th>45</th>\n",
              "      <td>45</td>\n",
              "      <td>31</td>\n",
              "      <td>1720</td>\n",
              "      <td>7</td>\n",
              "      <td>15.0</td>\n",
              "      <td>6.5</td>\n",
              "      <td>77.1</td>\n",
              "      <td>28.37</td>\n",
              "      <td>0.0</td>\n",
              "      <td>Dr STGR</td>\n",
              "    </tr>\n",
              "    <tr>\n",
              "      <th>47</th>\n",
              "      <td>47</td>\n",
              "      <td>33</td>\n",
              "      <td>1736</td>\n",
              "      <td>3</td>\n",
              "      <td>24.0</td>\n",
              "      <td>5.8</td>\n",
              "      <td>74.5</td>\n",
              "      <td>34.6</td>\n",
              "      <td>0.0</td>\n",
              "      <td>Dr STGR</td>\n",
              "    </tr>\n",
              "    <tr>\n",
              "      <th>49</th>\n",
              "      <td>49</td>\n",
              "      <td>35</td>\n",
              "      <td>1737</td>\n",
              "      <td>10</td>\n",
              "      <td>11.0</td>\n",
              "      <td>7.2</td>\n",
              "      <td>88.4</td>\n",
              "      <td>22.6</td>\n",
              "      <td>0.0</td>\n",
              "      <td>Dr STGR</td>\n",
              "    </tr>\n",
              "    <tr>\n",
              "      <th>51</th>\n",
              "      <td>51</td>\n",
              "      <td>37</td>\n",
              "      <td>1751</td>\n",
              "      <td>1</td>\n",
              "      <td>1.0</td>\n",
              "      <td>7.0</td>\n",
              "      <td>80.0</td>\n",
              "      <td>31.3</td>\n",
              "      <td>0.0</td>\n",
              "      <td>Dr STGR</td>\n",
              "    </tr>\n",
              "    <tr>\n",
              "      <th>52</th>\n",
              "      <td>52</td>\n",
              "      <td>38</td>\n",
              "      <td>1751</td>\n",
              "      <td>5</td>\n",
              "      <td>25.0</td>\n",
              "      <td>6.8</td>\n",
              "      <td>99.9</td>\n",
              "      <td>26.5</td>\n",
              "      <td>0.0</td>\n",
              "      <td>Dr STGR</td>\n",
              "    </tr>\n",
              "    <tr>\n",
              "      <th>53</th>\n",
              "      <td>53</td>\n",
              "      <td>39</td>\n",
              "      <td>1751</td>\n",
              "      <td>12</td>\n",
              "      <td>9.0</td>\n",
              "      <td>4.3</td>\n",
              "      <td>73.2</td>\n",
              "      <td>19.1</td>\n",
              "      <td>0.0</td>\n",
              "      <td>Dr STGR</td>\n",
              "    </tr>\n",
              "    <tr>\n",
              "      <th>56</th>\n",
              "      <td>56</td>\n",
              "      <td>42</td>\n",
              "      <td>1752</td>\n",
              "      <td>1</td>\n",
              "      <td>5.0</td>\n",
              "      <td>4.3</td>\n",
              "      <td>73.3</td>\n",
              "      <td>19.1</td>\n",
              "      <td>0.0</td>\n",
              "      <td>Dr STGR</td>\n",
              "    </tr>\n",
              "    <tr>\n",
              "      <th>57</th>\n",
              "      <td>57</td>\n",
              "      <td>43</td>\n",
              "      <td>1752</td>\n",
              "      <td>2</td>\n",
              "      <td>5.0</td>\n",
              "      <td>4.3</td>\n",
              "      <td>73.4</td>\n",
              "      <td>18.7</td>\n",
              "      <td>0.0</td>\n",
              "      <td>Dr STGR</td>\n",
              "    </tr>\n",
              "    <tr>\n",
              "      <th>60</th>\n",
              "      <td>60</td>\n",
              "      <td>46</td>\n",
              "      <td>1762</td>\n",
              "      <td>4</td>\n",
              "      <td>2.0</td>\n",
              "      <td>7.5</td>\n",
              "      <td>92.0</td>\n",
              "      <td>22.0</td>\n",
              "      <td>0.0</td>\n",
              "      <td>Dr STGR</td>\n",
              "    </tr>\n",
              "    <tr>\n",
              "      <th>61</th>\n",
              "      <td>61</td>\n",
              "      <td>47</td>\n",
              "      <td>1762</td>\n",
              "      <td>7</td>\n",
              "      <td>13.0</td>\n",
              "      <td>4.3</td>\n",
              "      <td>88.4</td>\n",
              "      <td>22.6</td>\n",
              "      <td>0.0</td>\n",
              "      <td>Dr STGR</td>\n",
              "    </tr>\n",
              "    <tr>\n",
              "      <th>64</th>\n",
              "      <td>64</td>\n",
              "      <td>50</td>\n",
              "      <td>1764</td>\n",
              "      <td>6</td>\n",
              "      <td>4.0</td>\n",
              "      <td>6.0</td>\n",
              "      <td>88.0</td>\n",
              "      <td>24.0</td>\n",
              "      <td>0.0</td>\n",
              "      <td>Dr STGR</td>\n",
              "    </tr>\n",
              "    <tr>\n",
              "      <th>65</th>\n",
              "      <td>65</td>\n",
              "      <td>51</td>\n",
              "      <td>1764</td>\n",
              "      <td>8</td>\n",
              "      <td>17.0</td>\n",
              "      <td>6.0</td>\n",
              "      <td>73.7</td>\n",
              "      <td>17.9</td>\n",
              "      <td>0.0</td>\n",
              "      <td>Dr STGR</td>\n",
              "    </tr>\n",
              "    <tr>\n",
              "      <th>67</th>\n",
              "      <td>67</td>\n",
              "      <td>53</td>\n",
              "      <td>1779</td>\n",
              "      <td>1</td>\n",
              "      <td>7.0</td>\n",
              "      <td>5.2</td>\n",
              "      <td>74.5</td>\n",
              "      <td>34.6</td>\n",
              "      <td>0.0</td>\n",
              "      <td>Dr STGR</td>\n",
              "    </tr>\n",
              "    <tr>\n",
              "      <th>68</th>\n",
              "      <td>68</td>\n",
              "      <td>54</td>\n",
              "      <td>1780</td>\n",
              "      <td>8</td>\n",
              "      <td>17.0</td>\n",
              "      <td>5.2</td>\n",
              "      <td>77.0</td>\n",
              "      <td>35.0</td>\n",
              "      <td>0.0</td>\n",
              "      <td>Dr STGR</td>\n",
              "    </tr>\n",
              "    <tr>\n",
              "      <th>70</th>\n",
              "      <td>70</td>\n",
              "      <td>56</td>\n",
              "      <td>1784</td>\n",
              "      <td>11</td>\n",
              "      <td>1.0</td>\n",
              "      <td>5.8</td>\n",
              "      <td>74.5</td>\n",
              "      <td>34.6</td>\n",
              "      <td>0.0</td>\n",
              "      <td>Dr STGR</td>\n",
              "    </tr>\n",
              "    <tr>\n",
              "      <th>71</th>\n",
              "      <td>71</td>\n",
              "      <td>57</td>\n",
              "      <td>1787</td>\n",
              "      <td>6</td>\n",
              "      <td>1.0</td>\n",
              "      <td>7.8</td>\n",
              "      <td>89.75</td>\n",
              "      <td>24.5</td>\n",
              "      <td>0.0</td>\n",
              "      <td>Dr STGR</td>\n",
              "    </tr>\n",
              "    <tr>\n",
              "      <th>73</th>\n",
              "      <td>73</td>\n",
              "      <td>59</td>\n",
              "      <td>1792</td>\n",
              "      <td>5</td>\n",
              "      <td>29.0</td>\n",
              "      <td>4.3</td>\n",
              "      <td>73.0</td>\n",
              "      <td>18.5</td>\n",
              "      <td>0.0</td>\n",
              "      <td>Dr STGR</td>\n",
              "    </tr>\n",
              "    <tr>\n",
              "      <th>75</th>\n",
              "      <td>75</td>\n",
              "      <td>61</td>\n",
              "      <td>1800</td>\n",
              "      <td>10</td>\n",
              "      <td>18.0</td>\n",
              "      <td>4.3</td>\n",
              "      <td>80.1</td>\n",
              "      <td>15.6</td>\n",
              "      <td>0.0</td>\n",
              "      <td>Dr STGR</td>\n",
              "    </tr>\n",
              "  </tbody>\n",
              "</table>\n",
              "</div>"
            ],
            "text/plain": [
              "    Unnamed: 0  Sl. No.  YEAR  MONTH  ...  LAT (N)  LONG (E) DEPTH (km) REFERENCE\n",
              "43          43       29  1705      2  ...    72.15     21.75        0.0   Dr STGR\n",
              "45          45       31  1720      7  ...     77.1     28.37        0.0   Dr STGR\n",
              "47          47       33  1736      3  ...     74.5      34.6        0.0   Dr STGR\n",
              "49          49       35  1737     10  ...     88.4      22.6        0.0   Dr STGR\n",
              "51          51       37  1751      1  ...     80.0      31.3        0.0   Dr STGR\n",
              "52          52       38  1751      5  ...     99.9      26.5        0.0   Dr STGR\n",
              "53          53       39  1751     12  ...     73.2      19.1        0.0   Dr STGR\n",
              "56          56       42  1752      1  ...     73.3      19.1        0.0   Dr STGR\n",
              "57          57       43  1752      2  ...     73.4      18.7        0.0   Dr STGR\n",
              "60          60       46  1762      4  ...     92.0      22.0        0.0   Dr STGR\n",
              "61          61       47  1762      7  ...     88.4      22.6        0.0   Dr STGR\n",
              "64          64       50  1764      6  ...     88.0      24.0        0.0   Dr STGR\n",
              "65          65       51  1764      8  ...     73.7      17.9        0.0   Dr STGR\n",
              "67          67       53  1779      1  ...     74.5      34.6        0.0   Dr STGR\n",
              "68          68       54  1780      8  ...     77.0      35.0        0.0   Dr STGR\n",
              "70          70       56  1784     11  ...     74.5      34.6        0.0   Dr STGR\n",
              "71          71       57  1787      6  ...    89.75      24.5        0.0   Dr STGR\n",
              "73          73       59  1792      5  ...     73.0      18.5        0.0   Dr STGR\n",
              "75          75       61  1800     10  ...     80.1      15.6        0.0   Dr STGR\n",
              "\n",
              "[19 rows x 10 columns]"
            ]
          },
          "metadata": {
            "tags": []
          },
          "execution_count": 338
        }
      ]
    },
    {
      "cell_type": "code",
      "metadata": {
        "id": "WhIjaUI8pjE3"
      },
      "source": [
        "df1 = df[df['YEAR'].between(1800,1900,inclusive=True)]\n"
      ],
      "execution_count": null,
      "outputs": []
    },
    {
      "cell_type": "code",
      "metadata": {
        "id": "br9ncYLypo1Q",
        "outputId": "65739ed4-2e02-4450-a89e-e8b17544397c",
        "colab": {
          "base_uri": "https://localhost:8080/",
          "height": 170
        }
      },
      "source": [
        "df1['DEPTH (km)'].describe()"
      ],
      "execution_count": null,
      "outputs": [
        {
          "output_type": "execute_result",
          "data": {
            "text/plain": [
              "count    226.000000\n",
              "mean       0.575221\n",
              "std        6.119267\n",
              "min        0.000000\n",
              "25%        0.000000\n",
              "50%        0.000000\n",
              "75%        0.000000\n",
              "max       70.000000\n",
              "Name: DEPTH (km), dtype: float64"
            ]
          },
          "metadata": {
            "tags": []
          },
          "execution_count": 340
        }
      ]
    },
    {
      "cell_type": "code",
      "metadata": {
        "id": "TSo4dVzIpws_"
      },
      "source": [
        "df1 = df[df['YEAR'].between(1900,2021,inclusive=True)]\n"
      ],
      "execution_count": null,
      "outputs": []
    },
    {
      "cell_type": "code",
      "metadata": {
        "id": "rcumd7TSqOFg",
        "outputId": "5d3be929-36f6-4a6a-ca69-81a3c360f413",
        "colab": {
          "base_uri": "https://localhost:8080/",
          "height": 170
        }
      },
      "source": [
        "df1['DEPTH (km)'].describe()"
      ],
      "execution_count": null,
      "outputs": [
        {
          "output_type": "execute_result",
          "data": {
            "text/plain": [
              "count    48927.000000\n",
              "mean        45.915556\n",
              "std         56.158812\n",
              "min          0.000000\n",
              "25%         10.000000\n",
              "50%         33.000000\n",
              "75%         56.000000\n",
              "max        831.200000\n",
              "Name: DEPTH (km), dtype: float64"
            ]
          },
          "metadata": {
            "tags": []
          },
          "execution_count": 342
        }
      ]
    },
    {
      "cell_type": "code",
      "metadata": {
        "id": "eKNRCVohqTLm",
        "outputId": "a10a67a7-10b5-48f3-9447-2657efc1e200",
        "colab": {
          "base_uri": "https://localhost:8080/",
          "height": 204
        }
      },
      "source": [
        "df1.isnull().sum()"
      ],
      "execution_count": null,
      "outputs": [
        {
          "output_type": "execute_result",
          "data": {
            "text/plain": [
              "Unnamed: 0       0\n",
              "Sl. No.          0\n",
              "YEAR             0\n",
              "MONTH            0\n",
              "DATE             0\n",
              "Mw               0\n",
              "LAT (N)          0\n",
              "LONG (E)         0\n",
              "DEPTH (km)    1068\n",
              "REFERENCE     1582\n",
              "dtype: int64"
            ]
          },
          "metadata": {
            "tags": []
          },
          "execution_count": 343
        }
      ]
    },
    {
      "cell_type": "code",
      "metadata": {
        "id": "RrufM2Em3LU6",
        "outputId": "d79fa16d-71e7-4f5d-fc26-755a93daa204",
        "colab": {
          "base_uri": "https://localhost:8080/",
          "height": 170
        }
      },
      "source": [
        "df['DEPTH (km)'].describe()"
      ],
      "execution_count": null,
      "outputs": [
        {
          "output_type": "execute_result",
          "data": {
            "text/plain": [
              "count    49185.000000\n",
              "mean        45.677553\n",
              "std         56.108936\n",
              "min          0.000000\n",
              "25%         10.000000\n",
              "50%         33.000000\n",
              "75%         55.300000\n",
              "max        831.200000\n",
              "Name: DEPTH (km), dtype: float64"
            ]
          },
          "metadata": {
            "tags": []
          },
          "execution_count": 344
        }
      ]
    },
    {
      "cell_type": "code",
      "metadata": {
        "id": "5z0lR7oc4WJm",
        "outputId": "d0e974c3-58e0-4068-d2ce-75db40b6918e",
        "colab": {
          "base_uri": "https://localhost:8080/",
          "height": 266
        }
      },
      "source": [
        "df.corr()"
      ],
      "execution_count": null,
      "outputs": [
        {
          "output_type": "execute_result",
          "data": {
            "text/html": [
              "<div>\n",
              "<style scoped>\n",
              "    .dataframe tbody tr th:only-of-type {\n",
              "        vertical-align: middle;\n",
              "    }\n",
              "\n",
              "    .dataframe tbody tr th {\n",
              "        vertical-align: top;\n",
              "    }\n",
              "\n",
              "    .dataframe thead th {\n",
              "        text-align: right;\n",
              "    }\n",
              "</style>\n",
              "<table border=\"1\" class=\"dataframe\">\n",
              "  <thead>\n",
              "    <tr style=\"text-align: right;\">\n",
              "      <th></th>\n",
              "      <th>Unnamed: 0</th>\n",
              "      <th>Sl. No.</th>\n",
              "      <th>YEAR</th>\n",
              "      <th>MONTH</th>\n",
              "      <th>DATE</th>\n",
              "      <th>Mw</th>\n",
              "      <th>DEPTH (km)</th>\n",
              "    </tr>\n",
              "  </thead>\n",
              "  <tbody>\n",
              "    <tr>\n",
              "      <th>Unnamed: 0</th>\n",
              "      <td>1.000000</td>\n",
              "      <td>1.000000</td>\n",
              "      <td>0.607345</td>\n",
              "      <td>-0.020447</td>\n",
              "      <td>0.042048</td>\n",
              "      <td>-0.187084</td>\n",
              "      <td>-0.184452</td>\n",
              "    </tr>\n",
              "    <tr>\n",
              "      <th>Sl. No.</th>\n",
              "      <td>1.000000</td>\n",
              "      <td>1.000000</td>\n",
              "      <td>0.607341</td>\n",
              "      <td>-0.020447</td>\n",
              "      <td>0.042048</td>\n",
              "      <td>-0.187084</td>\n",
              "      <td>-0.184452</td>\n",
              "    </tr>\n",
              "    <tr>\n",
              "      <th>YEAR</th>\n",
              "      <td>0.607345</td>\n",
              "      <td>0.607341</td>\n",
              "      <td>1.000000</td>\n",
              "      <td>-0.012127</td>\n",
              "      <td>0.038463</td>\n",
              "      <td>-0.227746</td>\n",
              "      <td>-0.057820</td>\n",
              "    </tr>\n",
              "    <tr>\n",
              "      <th>MONTH</th>\n",
              "      <td>-0.020447</td>\n",
              "      <td>-0.020447</td>\n",
              "      <td>-0.012127</td>\n",
              "      <td>1.000000</td>\n",
              "      <td>0.004181</td>\n",
              "      <td>0.014828</td>\n",
              "      <td>0.009270</td>\n",
              "    </tr>\n",
              "    <tr>\n",
              "      <th>DATE</th>\n",
              "      <td>0.042048</td>\n",
              "      <td>0.042048</td>\n",
              "      <td>0.038463</td>\n",
              "      <td>0.004181</td>\n",
              "      <td>1.000000</td>\n",
              "      <td>0.029037</td>\n",
              "      <td>-0.034577</td>\n",
              "    </tr>\n",
              "    <tr>\n",
              "      <th>Mw</th>\n",
              "      <td>-0.187084</td>\n",
              "      <td>-0.187084</td>\n",
              "      <td>-0.227746</td>\n",
              "      <td>0.014828</td>\n",
              "      <td>0.029037</td>\n",
              "      <td>1.000000</td>\n",
              "      <td>-0.026123</td>\n",
              "    </tr>\n",
              "    <tr>\n",
              "      <th>DEPTH (km)</th>\n",
              "      <td>-0.184452</td>\n",
              "      <td>-0.184452</td>\n",
              "      <td>-0.057820</td>\n",
              "      <td>0.009270</td>\n",
              "      <td>-0.034577</td>\n",
              "      <td>-0.026123</td>\n",
              "      <td>1.000000</td>\n",
              "    </tr>\n",
              "  </tbody>\n",
              "</table>\n",
              "</div>"
            ],
            "text/plain": [
              "            Unnamed: 0   Sl. No.      YEAR  ...      DATE        Mw  DEPTH (km)\n",
              "Unnamed: 0    1.000000  1.000000  0.607345  ...  0.042048 -0.187084   -0.184452\n",
              "Sl. No.       1.000000  1.000000  0.607341  ...  0.042048 -0.187084   -0.184452\n",
              "YEAR          0.607345  0.607341  1.000000  ...  0.038463 -0.227746   -0.057820\n",
              "MONTH        -0.020447 -0.020447 -0.012127  ...  0.004181  0.014828    0.009270\n",
              "DATE          0.042048  0.042048  0.038463  ...  1.000000  0.029037   -0.034577\n",
              "Mw           -0.187084 -0.187084 -0.227746  ...  0.029037  1.000000   -0.026123\n",
              "DEPTH (km)   -0.184452 -0.184452 -0.057820  ... -0.034577 -0.026123    1.000000\n",
              "\n",
              "[7 rows x 7 columns]"
            ]
          },
          "metadata": {
            "tags": []
          },
          "execution_count": 345
        }
      ]
    },
    {
      "cell_type": "code",
      "metadata": {
        "id": "pEBaNTj14Xar",
        "outputId": "c87f8bd2-bb37-4779-9ba5-d6c2e917df70",
        "colab": {
          "base_uri": "https://localhost:8080/",
          "height": 170
        }
      },
      "source": [
        "df.Mw.describe()"
      ],
      "execution_count": null,
      "outputs": [
        {
          "output_type": "execute_result",
          "data": {
            "text/plain": [
              "count    50436.000000\n",
              "mean         4.576671\n",
              "std          0.617067\n",
              "min          1.682800\n",
              "25%          4.200000\n",
              "50%          4.500000\n",
              "75%          4.884400\n",
              "max          9.100000\n",
              "Name: Mw, dtype: float64"
            ]
          },
          "metadata": {
            "tags": []
          },
          "execution_count": 346
        }
      ]
    },
    {
      "cell_type": "code",
      "metadata": {
        "id": "0r_atFX34cyP"
      },
      "source": [
        "def targe(x):\n",
        "  try:\n",
        "    if x['Mw'] < 4.5:\n",
        "      return 0\n",
        "    else:\n",
        "      return 1\n",
        "  except:\n",
        "    print('Except')\n",
        "    return 0"
      ],
      "execution_count": null,
      "outputs": []
    },
    {
      "cell_type": "code",
      "metadata": {
        "id": "8zWQggxv5aWo"
      },
      "source": [
        "df['target'] = 0"
      ],
      "execution_count": null,
      "outputs": []
    },
    {
      "cell_type": "code",
      "metadata": {
        "id": "IBIPHuoJ5epW"
      },
      "source": [
        "df['target'] = df.apply(lambda x : targe(x),axis=1)"
      ],
      "execution_count": null,
      "outputs": []
    },
    {
      "cell_type": "code",
      "metadata": {
        "id": "Ef7jK7JA5heg",
        "outputId": "63f88b3a-96a2-4f45-a2d9-85ec5e7074ad",
        "colab": {
          "base_uri": "https://localhost:8080/",
          "height": 221
        }
      },
      "source": [
        "df[df['Mw'] <= 4.5].count()"
      ],
      "execution_count": null,
      "outputs": [
        {
          "output_type": "execute_result",
          "data": {
            "text/plain": [
              "Unnamed: 0    27344\n",
              "Sl. No.       27344\n",
              "YEAR          27344\n",
              "MONTH         27344\n",
              "DATE          27344\n",
              "Mw            27344\n",
              "LAT (N)       27344\n",
              "LONG (E)      27344\n",
              "DEPTH (km)    26920\n",
              "REFERENCE     26180\n",
              "target        27344\n",
              "dtype: int64"
            ]
          },
          "metadata": {
            "tags": []
          },
          "execution_count": 350
        }
      ]
    },
    {
      "cell_type": "code",
      "metadata": {
        "id": "LRjt_3a26O1b",
        "outputId": "8a76a6d5-9777-4fe6-cc22-23cbe041c8c0",
        "colab": {
          "base_uri": "https://localhost:8080/",
          "height": 297
        }
      },
      "source": [
        "df.corr()"
      ],
      "execution_count": null,
      "outputs": [
        {
          "output_type": "execute_result",
          "data": {
            "text/html": [
              "<div>\n",
              "<style scoped>\n",
              "    .dataframe tbody tr th:only-of-type {\n",
              "        vertical-align: middle;\n",
              "    }\n",
              "\n",
              "    .dataframe tbody tr th {\n",
              "        vertical-align: top;\n",
              "    }\n",
              "\n",
              "    .dataframe thead th {\n",
              "        text-align: right;\n",
              "    }\n",
              "</style>\n",
              "<table border=\"1\" class=\"dataframe\">\n",
              "  <thead>\n",
              "    <tr style=\"text-align: right;\">\n",
              "      <th></th>\n",
              "      <th>Unnamed: 0</th>\n",
              "      <th>Sl. No.</th>\n",
              "      <th>YEAR</th>\n",
              "      <th>MONTH</th>\n",
              "      <th>DATE</th>\n",
              "      <th>Mw</th>\n",
              "      <th>DEPTH (km)</th>\n",
              "      <th>target</th>\n",
              "    </tr>\n",
              "  </thead>\n",
              "  <tbody>\n",
              "    <tr>\n",
              "      <th>Unnamed: 0</th>\n",
              "      <td>1.000000</td>\n",
              "      <td>1.000000</td>\n",
              "      <td>0.607345</td>\n",
              "      <td>-0.020447</td>\n",
              "      <td>0.042048</td>\n",
              "      <td>-0.187084</td>\n",
              "      <td>-0.184452</td>\n",
              "      <td>-0.168586</td>\n",
              "    </tr>\n",
              "    <tr>\n",
              "      <th>Sl. No.</th>\n",
              "      <td>1.000000</td>\n",
              "      <td>1.000000</td>\n",
              "      <td>0.607341</td>\n",
              "      <td>-0.020447</td>\n",
              "      <td>0.042048</td>\n",
              "      <td>-0.187084</td>\n",
              "      <td>-0.184452</td>\n",
              "      <td>-0.168586</td>\n",
              "    </tr>\n",
              "    <tr>\n",
              "      <th>YEAR</th>\n",
              "      <td>0.607345</td>\n",
              "      <td>0.607341</td>\n",
              "      <td>1.000000</td>\n",
              "      <td>-0.012127</td>\n",
              "      <td>0.038463</td>\n",
              "      <td>-0.227746</td>\n",
              "      <td>-0.057820</td>\n",
              "      <td>-0.140220</td>\n",
              "    </tr>\n",
              "    <tr>\n",
              "      <th>MONTH</th>\n",
              "      <td>-0.020447</td>\n",
              "      <td>-0.020447</td>\n",
              "      <td>-0.012127</td>\n",
              "      <td>1.000000</td>\n",
              "      <td>0.004181</td>\n",
              "      <td>0.014828</td>\n",
              "      <td>0.009270</td>\n",
              "      <td>0.009177</td>\n",
              "    </tr>\n",
              "    <tr>\n",
              "      <th>DATE</th>\n",
              "      <td>0.042048</td>\n",
              "      <td>0.042048</td>\n",
              "      <td>0.038463</td>\n",
              "      <td>0.004181</td>\n",
              "      <td>1.000000</td>\n",
              "      <td>0.029037</td>\n",
              "      <td>-0.034577</td>\n",
              "      <td>0.039471</td>\n",
              "    </tr>\n",
              "    <tr>\n",
              "      <th>Mw</th>\n",
              "      <td>-0.187084</td>\n",
              "      <td>-0.187084</td>\n",
              "      <td>-0.227746</td>\n",
              "      <td>0.014828</td>\n",
              "      <td>0.029037</td>\n",
              "      <td>1.000000</td>\n",
              "      <td>-0.026123</td>\n",
              "      <td>0.720023</td>\n",
              "    </tr>\n",
              "    <tr>\n",
              "      <th>DEPTH (km)</th>\n",
              "      <td>-0.184452</td>\n",
              "      <td>-0.184452</td>\n",
              "      <td>-0.057820</td>\n",
              "      <td>0.009270</td>\n",
              "      <td>-0.034577</td>\n",
              "      <td>-0.026123</td>\n",
              "      <td>1.000000</td>\n",
              "      <td>-0.066619</td>\n",
              "    </tr>\n",
              "    <tr>\n",
              "      <th>target</th>\n",
              "      <td>-0.168586</td>\n",
              "      <td>-0.168586</td>\n",
              "      <td>-0.140220</td>\n",
              "      <td>0.009177</td>\n",
              "      <td>0.039471</td>\n",
              "      <td>0.720023</td>\n",
              "      <td>-0.066619</td>\n",
              "      <td>1.000000</td>\n",
              "    </tr>\n",
              "  </tbody>\n",
              "</table>\n",
              "</div>"
            ],
            "text/plain": [
              "            Unnamed: 0   Sl. No.      YEAR  ...        Mw  DEPTH (km)    target\n",
              "Unnamed: 0    1.000000  1.000000  0.607345  ... -0.187084   -0.184452 -0.168586\n",
              "Sl. No.       1.000000  1.000000  0.607341  ... -0.187084   -0.184452 -0.168586\n",
              "YEAR          0.607345  0.607341  1.000000  ... -0.227746   -0.057820 -0.140220\n",
              "MONTH        -0.020447 -0.020447 -0.012127  ...  0.014828    0.009270  0.009177\n",
              "DATE          0.042048  0.042048  0.038463  ...  0.029037   -0.034577  0.039471\n",
              "Mw           -0.187084 -0.187084 -0.227746  ...  1.000000   -0.026123  0.720023\n",
              "DEPTH (km)   -0.184452 -0.184452 -0.057820  ... -0.026123    1.000000 -0.066619\n",
              "target       -0.168586 -0.168586 -0.140220  ...  0.720023   -0.066619  1.000000\n",
              "\n",
              "[8 rows x 8 columns]"
            ]
          },
          "metadata": {
            "tags": []
          },
          "execution_count": 351
        }
      ]
    },
    {
      "cell_type": "code",
      "metadata": {
        "id": "0DX6WiNNDmlE"
      },
      "source": [
        "df.reset_index(inplace=True)"
      ],
      "execution_count": null,
      "outputs": []
    },
    {
      "cell_type": "code",
      "metadata": {
        "id": "p0R-plBV9f5n",
        "outputId": "db9bd9d2-db3b-468b-e45b-7f1c6b457075",
        "colab": {
          "base_uri": "https://localhost:8080/",
          "height": 119
        }
      },
      "source": [
        "a=0\n",
        "g = 0\n",
        "neg = 0\n",
        "arr = []\n",
        "for i in range(len(df['LAT (N)'])):\n",
        "  try:\n",
        "    check = float(df['LAT (N)'][i])\n",
        "    if check > 90:\n",
        "      neg += 1\n",
        "  except:\n",
        "    g += 1\n",
        "    s = df['LAT (N)'][i]\n",
        "    a = \"\"\n",
        "    for j in s:\n",
        "      if j in ['0','1','2','3','4','5','6','7','8','9'] or j == '.':\n",
        "        a += j\n",
        "      elif j == ' ':\n",
        "        pass\n",
        "      else:\n",
        "        break\n",
        "    arr.append(a)\n",
        "    df['LAT (N)'][i] = a\n",
        "print(neg)\n",
        "print(g)"
      ],
      "execution_count": null,
      "outputs": [
        {
          "output_type": "stream",
          "text": [
            "/usr/local/lib/python3.6/dist-packages/ipykernel_launcher.py:22: SettingWithCopyWarning: \n",
            "A value is trying to be set on a copy of a slice from a DataFrame\n",
            "\n",
            "See the caveats in the documentation: https://pandas.pydata.org/pandas-docs/stable/user_guide/indexing.html#returning-a-view-versus-a-copy\n"
          ],
          "name": "stderr"
        },
        {
          "output_type": "stream",
          "text": [
            "13523\n",
            "2418\n"
          ],
          "name": "stdout"
        }
      ]
    },
    {
      "cell_type": "code",
      "metadata": {
        "id": "SoPwHByEGuYg",
        "outputId": "3ce5b279-5244-46b7-b385-ab54c7c0b713",
        "colab": {
          "base_uri": "https://localhost:8080/",
          "height": 119
        }
      },
      "source": [
        "a=0\n",
        "g = 0\n",
        "neg = 0\n",
        "arr = []\n",
        "for i in range(len(df['LONG (E)'])):\n",
        "  try:\n",
        "    check = float(df['LONG (E)'][i])\n",
        "    if check > 90:\n",
        "      neg += 1\n",
        "  except:\n",
        "    g += 1\n",
        "    s = df['LONG (E)'][i]\n",
        "    a = \"\"\n",
        "    for j in s:\n",
        "      if j in ['0','1','2','3','4','5','6','7','8','9'] or j == '.':\n",
        "        a += j\n",
        "      elif j == ' ':\n",
        "        pass\n",
        "      else:\n",
        "        break\n",
        "    arr.append(a)\n",
        "    df['LONG (E)'][i] = a\n",
        "print(neg)\n",
        "print(g)"
      ],
      "execution_count": null,
      "outputs": [
        {
          "output_type": "stream",
          "text": [
            "/usr/local/lib/python3.6/dist-packages/ipykernel_launcher.py:22: SettingWithCopyWarning: \n",
            "A value is trying to be set on a copy of a slice from a DataFrame\n",
            "\n",
            "See the caveats in the documentation: https://pandas.pydata.org/pandas-docs/stable/user_guide/indexing.html#returning-a-view-versus-a-copy\n"
          ],
          "name": "stderr"
        },
        {
          "output_type": "stream",
          "text": [
            "11370\n",
            "2418\n"
          ],
          "name": "stdout"
        }
      ]
    },
    {
      "cell_type": "code",
      "metadata": {
        "id": "O7ALZ46IHB8o"
      },
      "source": [
        "df['LONG (E)'] = df['LONG (E)'].astype(float)"
      ],
      "execution_count": null,
      "outputs": []
    },
    {
      "cell_type": "code",
      "metadata": {
        "id": "2Z4fwQZaHLMi"
      },
      "source": [
        "df['LAT (N)'] = df['LAT (N)'].astype(float)"
      ],
      "execution_count": null,
      "outputs": []
    },
    {
      "cell_type": "code",
      "metadata": {
        "id": "CZhjjind-gpV"
      },
      "source": [
        "df.drop(['Mw'],axis = 1,inplace=True)"
      ],
      "execution_count": null,
      "outputs": []
    },
    {
      "cell_type": "code",
      "metadata": {
        "id": "WmqNfvRdwfsA",
        "outputId": "db77e483-d73a-42cc-f45e-c4103d619f94",
        "colab": {
          "base_uri": "https://localhost:8080/",
          "height": 204
        }
      },
      "source": [
        "df.head()\n"
      ],
      "execution_count": null,
      "outputs": [
        {
          "output_type": "execute_result",
          "data": {
            "text/html": [
              "<div>\n",
              "<style scoped>\n",
              "    .dataframe tbody tr th:only-of-type {\n",
              "        vertical-align: middle;\n",
              "    }\n",
              "\n",
              "    .dataframe tbody tr th {\n",
              "        vertical-align: top;\n",
              "    }\n",
              "\n",
              "    .dataframe thead th {\n",
              "        text-align: right;\n",
              "    }\n",
              "</style>\n",
              "<table border=\"1\" class=\"dataframe\">\n",
              "  <thead>\n",
              "    <tr style=\"text-align: right;\">\n",
              "      <th></th>\n",
              "      <th>index</th>\n",
              "      <th>Unnamed: 0</th>\n",
              "      <th>Sl. No.</th>\n",
              "      <th>YEAR</th>\n",
              "      <th>MONTH</th>\n",
              "      <th>DATE</th>\n",
              "      <th>LAT (N)</th>\n",
              "      <th>LONG (E)</th>\n",
              "      <th>DEPTH (km)</th>\n",
              "      <th>REFERENCE</th>\n",
              "      <th>target</th>\n",
              "    </tr>\n",
              "  </thead>\n",
              "  <tbody>\n",
              "    <tr>\n",
              "      <th>0</th>\n",
              "      <td>3</td>\n",
              "      <td>3</td>\n",
              "      <td>4</td>\n",
              "      <td>26</td>\n",
              "      <td>5</td>\n",
              "      <td>10.0</td>\n",
              "      <td>17.3</td>\n",
              "      <td>80.1</td>\n",
              "      <td>NaN</td>\n",
              "      <td>NEIC</td>\n",
              "      <td>1</td>\n",
              "    </tr>\n",
              "    <tr>\n",
              "      <th>1</th>\n",
              "      <td>4</td>\n",
              "      <td>4</td>\n",
              "      <td>5</td>\n",
              "      <td>26</td>\n",
              "      <td>5</td>\n",
              "      <td>10.0</td>\n",
              "      <td>26.0</td>\n",
              "      <td>97.0</td>\n",
              "      <td>80.0</td>\n",
              "      <td>G-R</td>\n",
              "      <td>1</td>\n",
              "    </tr>\n",
              "    <tr>\n",
              "      <th>2</th>\n",
              "      <td>9</td>\n",
              "      <td>9</td>\n",
              "      <td>10</td>\n",
              "      <td>819</td>\n",
              "      <td>6</td>\n",
              "      <td>1.0</td>\n",
              "      <td>65.4</td>\n",
              "      <td>36.4</td>\n",
              "      <td>0.0</td>\n",
              "      <td>Dr STGR</td>\n",
              "      <td>1</td>\n",
              "    </tr>\n",
              "    <tr>\n",
              "      <th>3</th>\n",
              "      <td>17</td>\n",
              "      <td>17</td>\n",
              "      <td>3</td>\n",
              "      <td>1102</td>\n",
              "      <td>2</td>\n",
              "      <td>28.0</td>\n",
              "      <td>62.2</td>\n",
              "      <td>34.4</td>\n",
              "      <td>0.0</td>\n",
              "      <td>Dr STGR</td>\n",
              "      <td>1</td>\n",
              "    </tr>\n",
              "    <tr>\n",
              "      <th>4</th>\n",
              "      <td>20</td>\n",
              "      <td>20</td>\n",
              "      <td>6</td>\n",
              "      <td>1364</td>\n",
              "      <td>2</td>\n",
              "      <td>10.0</td>\n",
              "      <td>61.7</td>\n",
              "      <td>34.9</td>\n",
              "      <td>0.0</td>\n",
              "      <td>Dr STGR</td>\n",
              "      <td>1</td>\n",
              "    </tr>\n",
              "  </tbody>\n",
              "</table>\n",
              "</div>"
            ],
            "text/plain": [
              "   index  Unnamed: 0  Sl. No.  YEAR  ...  LONG (E)  DEPTH (km)  REFERENCE  target\n",
              "0      3           3        4    26  ...      80.1         NaN       NEIC       1\n",
              "1      4           4        5    26  ...      97.0        80.0        G-R       1\n",
              "2      9           9       10   819  ...      36.4         0.0    Dr STGR       1\n",
              "3     17          17        3  1102  ...      34.4         0.0    Dr STGR       1\n",
              "4     20          20        6  1364  ...      34.9         0.0    Dr STGR       1\n",
              "\n",
              "[5 rows x 11 columns]"
            ]
          },
          "metadata": {
            "tags": []
          },
          "execution_count": 358
        }
      ]
    },
    {
      "cell_type": "code",
      "metadata": {
        "id": "0ybtBz4xwqS3",
        "outputId": "abda1254-f10e-4341-d443-309e63fcd2ef",
        "colab": {
          "base_uri": "https://localhost:8080/",
          "height": 221
        }
      },
      "source": [
        "df.isnull().sum()\n"
      ],
      "execution_count": null,
      "outputs": [
        {
          "output_type": "execute_result",
          "data": {
            "text/plain": [
              "index            0\n",
              "Unnamed: 0       0\n",
              "Sl. No.          0\n",
              "YEAR             0\n",
              "MONTH            0\n",
              "DATE             0\n",
              "LAT (N)          0\n",
              "LONG (E)         0\n",
              "DEPTH (km)    1251\n",
              "REFERENCE     1582\n",
              "target           0\n",
              "dtype: int64"
            ]
          },
          "metadata": {
            "tags": []
          },
          "execution_count": 359
        }
      ]
    },
    {
      "cell_type": "markdown",
      "metadata": {
        "id": "VFdjNLqdw4sO"
      },
      "source": [
        "Sine number of null rows of DEPTH are about 2% of the total number of rows, these can be deleted"
      ]
    },
    {
      "cell_type": "code",
      "metadata": {
        "id": "4jQN_Qs6wuAs"
      },
      "source": [
        "df.dropna(axis=0,subset=['DEPTH (km)'],inplace=True)"
      ],
      "execution_count": null,
      "outputs": []
    },
    {
      "cell_type": "code",
      "metadata": {
        "id": "fVkCkdvuxTam",
        "outputId": "b18b33a0-b662-412b-d28a-b32d1aae3a09",
        "colab": {
          "base_uri": "https://localhost:8080/",
          "height": 221
        }
      },
      "source": [
        "df.isnull().sum()"
      ],
      "execution_count": null,
      "outputs": [
        {
          "output_type": "execute_result",
          "data": {
            "text/plain": [
              "index            0\n",
              "Unnamed: 0       0\n",
              "Sl. No.          0\n",
              "YEAR             0\n",
              "MONTH            0\n",
              "DATE             0\n",
              "LAT (N)          0\n",
              "LONG (E)         0\n",
              "DEPTH (km)       0\n",
              "REFERENCE     1582\n",
              "target           0\n",
              "dtype: int64"
            ]
          },
          "metadata": {
            "tags": []
          },
          "execution_count": 361
        }
      ]
    },
    {
      "cell_type": "code",
      "metadata": {
        "id": "dGEVSzd8xVYB"
      },
      "source": [
        "df.dropna(axis=0,subset=['REFERENCE'],inplace=True)"
      ],
      "execution_count": null,
      "outputs": []
    },
    {
      "cell_type": "code",
      "metadata": {
        "id": "prUTGoUgxfku",
        "outputId": "f98922ff-d38e-49cc-e765-018e06a72e7a",
        "colab": {
          "base_uri": "https://localhost:8080/",
          "height": 68
        }
      },
      "source": [
        "df.REFERENCE.unique()"
      ],
      "execution_count": null,
      "outputs": [
        {
          "output_type": "execute_result",
          "data": {
            "text/plain": [
              "array(['G-R', 'Dr STGR', 'OLD', 'G-R/BDA', 'BDA/CM', 'BDA', 'T-S/G-R',\n",
              "       'ISC', 'ISS', 'G-R/CM', 'ISS/T-S', 'PDE', 'IMD', 'USGS', 'NGRI',\n",
              "       'ISR', 'RO', 'NEIC', ' ISC', 'HRVD', 'NEIC / USGS'], dtype=object)"
            ]
          },
          "metadata": {
            "tags": []
          },
          "execution_count": 363
        }
      ]
    },
    {
      "cell_type": "code",
      "metadata": {
        "id": "Z8TERYsYxiWn",
        "outputId": "91f9aeec-5d5c-48d9-ed6d-7e68439f4bd2",
        "colab": {
          "base_uri": "https://localhost:8080/",
          "height": 359
        }
      },
      "source": [
        "df.corr()"
      ],
      "execution_count": null,
      "outputs": [
        {
          "output_type": "execute_result",
          "data": {
            "text/html": [
              "<div>\n",
              "<style scoped>\n",
              "    .dataframe tbody tr th:only-of-type {\n",
              "        vertical-align: middle;\n",
              "    }\n",
              "\n",
              "    .dataframe tbody tr th {\n",
              "        vertical-align: top;\n",
              "    }\n",
              "\n",
              "    .dataframe thead th {\n",
              "        text-align: right;\n",
              "    }\n",
              "</style>\n",
              "<table border=\"1\" class=\"dataframe\">\n",
              "  <thead>\n",
              "    <tr style=\"text-align: right;\">\n",
              "      <th></th>\n",
              "      <th>index</th>\n",
              "      <th>Unnamed: 0</th>\n",
              "      <th>Sl. No.</th>\n",
              "      <th>YEAR</th>\n",
              "      <th>MONTH</th>\n",
              "      <th>DATE</th>\n",
              "      <th>LAT (N)</th>\n",
              "      <th>LONG (E)</th>\n",
              "      <th>DEPTH (km)</th>\n",
              "      <th>target</th>\n",
              "    </tr>\n",
              "  </thead>\n",
              "  <tbody>\n",
              "    <tr>\n",
              "      <th>index</th>\n",
              "      <td>1.000000</td>\n",
              "      <td>1.000000</td>\n",
              "      <td>1.000000</td>\n",
              "      <td>0.622441</td>\n",
              "      <td>-0.020265</td>\n",
              "      <td>0.050180</td>\n",
              "      <td>0.051797</td>\n",
              "      <td>-0.055603</td>\n",
              "      <td>-0.173055</td>\n",
              "      <td>-0.156246</td>\n",
              "    </tr>\n",
              "    <tr>\n",
              "      <th>Unnamed: 0</th>\n",
              "      <td>1.000000</td>\n",
              "      <td>1.000000</td>\n",
              "      <td>1.000000</td>\n",
              "      <td>0.622444</td>\n",
              "      <td>-0.020265</td>\n",
              "      <td>0.050181</td>\n",
              "      <td>0.051793</td>\n",
              "      <td>-0.055602</td>\n",
              "      <td>-0.173056</td>\n",
              "      <td>-0.156250</td>\n",
              "    </tr>\n",
              "    <tr>\n",
              "      <th>Sl. No.</th>\n",
              "      <td>1.000000</td>\n",
              "      <td>1.000000</td>\n",
              "      <td>1.000000</td>\n",
              "      <td>0.622441</td>\n",
              "      <td>-0.020265</td>\n",
              "      <td>0.050181</td>\n",
              "      <td>0.051793</td>\n",
              "      <td>-0.055601</td>\n",
              "      <td>-0.173056</td>\n",
              "      <td>-0.156250</td>\n",
              "    </tr>\n",
              "    <tr>\n",
              "      <th>YEAR</th>\n",
              "      <td>0.622441</td>\n",
              "      <td>0.622444</td>\n",
              "      <td>0.622441</td>\n",
              "      <td>1.000000</td>\n",
              "      <td>-0.012319</td>\n",
              "      <td>0.044418</td>\n",
              "      <td>-0.048112</td>\n",
              "      <td>0.015193</td>\n",
              "      <td>-0.046743</td>\n",
              "      <td>-0.157970</td>\n",
              "    </tr>\n",
              "    <tr>\n",
              "      <th>MONTH</th>\n",
              "      <td>-0.020265</td>\n",
              "      <td>-0.020265</td>\n",
              "      <td>-0.020265</td>\n",
              "      <td>-0.012319</td>\n",
              "      <td>1.000000</td>\n",
              "      <td>0.003526</td>\n",
              "      <td>0.021127</td>\n",
              "      <td>-0.001054</td>\n",
              "      <td>0.007936</td>\n",
              "      <td>0.009420</td>\n",
              "    </tr>\n",
              "    <tr>\n",
              "      <th>DATE</th>\n",
              "      <td>0.050180</td>\n",
              "      <td>0.050181</td>\n",
              "      <td>0.050181</td>\n",
              "      <td>0.044418</td>\n",
              "      <td>0.003526</td>\n",
              "      <td>1.000000</td>\n",
              "      <td>0.005700</td>\n",
              "      <td>-0.011969</td>\n",
              "      <td>-0.036291</td>\n",
              "      <td>0.039692</td>\n",
              "    </tr>\n",
              "    <tr>\n",
              "      <th>LAT (N)</th>\n",
              "      <td>0.051797</td>\n",
              "      <td>0.051793</td>\n",
              "      <td>0.051793</td>\n",
              "      <td>-0.048112</td>\n",
              "      <td>0.021127</td>\n",
              "      <td>0.005700</td>\n",
              "      <td>1.000000</td>\n",
              "      <td>-0.602349</td>\n",
              "      <td>-0.056259</td>\n",
              "      <td>-0.106837</td>\n",
              "    </tr>\n",
              "    <tr>\n",
              "      <th>LONG (E)</th>\n",
              "      <td>-0.055603</td>\n",
              "      <td>-0.055602</td>\n",
              "      <td>-0.055601</td>\n",
              "      <td>0.015193</td>\n",
              "      <td>-0.001054</td>\n",
              "      <td>-0.011969</td>\n",
              "      <td>-0.602349</td>\n",
              "      <td>1.000000</td>\n",
              "      <td>0.050800</td>\n",
              "      <td>0.068310</td>\n",
              "    </tr>\n",
              "    <tr>\n",
              "      <th>DEPTH (km)</th>\n",
              "      <td>-0.173055</td>\n",
              "      <td>-0.173056</td>\n",
              "      <td>-0.173056</td>\n",
              "      <td>-0.046743</td>\n",
              "      <td>0.007936</td>\n",
              "      <td>-0.036291</td>\n",
              "      <td>-0.056259</td>\n",
              "      <td>0.050800</td>\n",
              "      <td>1.000000</td>\n",
              "      <td>-0.078122</td>\n",
              "    </tr>\n",
              "    <tr>\n",
              "      <th>target</th>\n",
              "      <td>-0.156246</td>\n",
              "      <td>-0.156250</td>\n",
              "      <td>-0.156250</td>\n",
              "      <td>-0.157970</td>\n",
              "      <td>0.009420</td>\n",
              "      <td>0.039692</td>\n",
              "      <td>-0.106837</td>\n",
              "      <td>0.068310</td>\n",
              "      <td>-0.078122</td>\n",
              "      <td>1.000000</td>\n",
              "    </tr>\n",
              "  </tbody>\n",
              "</table>\n",
              "</div>"
            ],
            "text/plain": [
              "               index  Unnamed: 0   Sl. No.  ...  LONG (E)  DEPTH (km)    target\n",
              "index       1.000000    1.000000  1.000000  ... -0.055603   -0.173055 -0.156246\n",
              "Unnamed: 0  1.000000    1.000000  1.000000  ... -0.055602   -0.173056 -0.156250\n",
              "Sl. No.     1.000000    1.000000  1.000000  ... -0.055601   -0.173056 -0.156250\n",
              "YEAR        0.622441    0.622444  0.622441  ...  0.015193   -0.046743 -0.157970\n",
              "MONTH      -0.020265   -0.020265 -0.020265  ... -0.001054    0.007936  0.009420\n",
              "DATE        0.050180    0.050181  0.050181  ... -0.011969   -0.036291  0.039692\n",
              "LAT (N)     0.051797    0.051793  0.051793  ... -0.602349   -0.056259 -0.106837\n",
              "LONG (E)   -0.055603   -0.055602 -0.055601  ...  1.000000    0.050800  0.068310\n",
              "DEPTH (km) -0.173055   -0.173056 -0.173056  ...  0.050800    1.000000 -0.078122\n",
              "target     -0.156246   -0.156250 -0.156250  ...  0.068310   -0.078122  1.000000\n",
              "\n",
              "[10 rows x 10 columns]"
            ]
          },
          "metadata": {
            "tags": []
          },
          "execution_count": 364
        }
      ]
    },
    {
      "cell_type": "code",
      "metadata": {
        "id": "RZ9hEqBCx5kS"
      },
      "source": [
        "from sklearn import preprocessing"
      ],
      "execution_count": null,
      "outputs": []
    },
    {
      "cell_type": "code",
      "metadata": {
        "id": "pLJLi9R_z2-l"
      },
      "source": [
        "df['REFERENCE'] = preprocessing.LabelEncoder().fit_transform(df['REFERENCE'])"
      ],
      "execution_count": null,
      "outputs": []
    },
    {
      "cell_type": "code",
      "metadata": {
        "id": "hMDP2zkq0RYM",
        "outputId": "bcbb8fbe-0456-45d2-9e87-55aba502bd2d",
        "colab": {
          "base_uri": "https://localhost:8080/",
          "height": 204
        }
      },
      "source": [
        "df.head()"
      ],
      "execution_count": null,
      "outputs": [
        {
          "output_type": "execute_result",
          "data": {
            "text/html": [
              "<div>\n",
              "<style scoped>\n",
              "    .dataframe tbody tr th:only-of-type {\n",
              "        vertical-align: middle;\n",
              "    }\n",
              "\n",
              "    .dataframe tbody tr th {\n",
              "        vertical-align: top;\n",
              "    }\n",
              "\n",
              "    .dataframe thead th {\n",
              "        text-align: right;\n",
              "    }\n",
              "</style>\n",
              "<table border=\"1\" class=\"dataframe\">\n",
              "  <thead>\n",
              "    <tr style=\"text-align: right;\">\n",
              "      <th></th>\n",
              "      <th>index</th>\n",
              "      <th>Unnamed: 0</th>\n",
              "      <th>Sl. No.</th>\n",
              "      <th>YEAR</th>\n",
              "      <th>MONTH</th>\n",
              "      <th>DATE</th>\n",
              "      <th>LAT (N)</th>\n",
              "      <th>LONG (E)</th>\n",
              "      <th>DEPTH (km)</th>\n",
              "      <th>REFERENCE</th>\n",
              "      <th>target</th>\n",
              "    </tr>\n",
              "  </thead>\n",
              "  <tbody>\n",
              "    <tr>\n",
              "      <th>1</th>\n",
              "      <td>4</td>\n",
              "      <td>4</td>\n",
              "      <td>5</td>\n",
              "      <td>26</td>\n",
              "      <td>5</td>\n",
              "      <td>10.0</td>\n",
              "      <td>26.0</td>\n",
              "      <td>97.0</td>\n",
              "      <td>80.0</td>\n",
              "      <td>4</td>\n",
              "      <td>1</td>\n",
              "    </tr>\n",
              "    <tr>\n",
              "      <th>2</th>\n",
              "      <td>9</td>\n",
              "      <td>9</td>\n",
              "      <td>10</td>\n",
              "      <td>819</td>\n",
              "      <td>6</td>\n",
              "      <td>1.0</td>\n",
              "      <td>65.4</td>\n",
              "      <td>36.4</td>\n",
              "      <td>0.0</td>\n",
              "      <td>3</td>\n",
              "      <td>1</td>\n",
              "    </tr>\n",
              "    <tr>\n",
              "      <th>3</th>\n",
              "      <td>17</td>\n",
              "      <td>17</td>\n",
              "      <td>3</td>\n",
              "      <td>1102</td>\n",
              "      <td>2</td>\n",
              "      <td>28.0</td>\n",
              "      <td>62.2</td>\n",
              "      <td>34.4</td>\n",
              "      <td>0.0</td>\n",
              "      <td>3</td>\n",
              "      <td>1</td>\n",
              "    </tr>\n",
              "    <tr>\n",
              "      <th>4</th>\n",
              "      <td>20</td>\n",
              "      <td>20</td>\n",
              "      <td>6</td>\n",
              "      <td>1364</td>\n",
              "      <td>2</td>\n",
              "      <td>10.0</td>\n",
              "      <td>61.7</td>\n",
              "      <td>34.9</td>\n",
              "      <td>0.0</td>\n",
              "      <td>3</td>\n",
              "      <td>1</td>\n",
              "    </tr>\n",
              "    <tr>\n",
              "      <th>5</th>\n",
              "      <td>21</td>\n",
              "      <td>21</td>\n",
              "      <td>7</td>\n",
              "      <td>1411</td>\n",
              "      <td>9</td>\n",
              "      <td>29.0</td>\n",
              "      <td>90.2</td>\n",
              "      <td>30.0</td>\n",
              "      <td>0.0</td>\n",
              "      <td>3</td>\n",
              "      <td>1</td>\n",
              "    </tr>\n",
              "  </tbody>\n",
              "</table>\n",
              "</div>"
            ],
            "text/plain": [
              "   index  Unnamed: 0  Sl. No.  YEAR  ...  LONG (E)  DEPTH (km)  REFERENCE  target\n",
              "1      4           4        5    26  ...      97.0        80.0          4       1\n",
              "2      9           9       10   819  ...      36.4         0.0          3       1\n",
              "3     17          17        3  1102  ...      34.4         0.0          3       1\n",
              "4     20          20        6  1364  ...      34.9         0.0          3       1\n",
              "5     21          21        7  1411  ...      30.0         0.0          3       1\n",
              "\n",
              "[5 rows x 11 columns]"
            ]
          },
          "metadata": {
            "tags": []
          },
          "execution_count": 367
        }
      ]
    },
    {
      "cell_type": "code",
      "metadata": {
        "id": "L_y6gCSw0cJG",
        "outputId": "0cfa15a7-cb17-4e23-c6e9-b568fd9e00a5",
        "colab": {
          "base_uri": "https://localhost:8080/",
          "height": 390
        }
      },
      "source": [
        "df.corr()"
      ],
      "execution_count": null,
      "outputs": [
        {
          "output_type": "execute_result",
          "data": {
            "text/html": [
              "<div>\n",
              "<style scoped>\n",
              "    .dataframe tbody tr th:only-of-type {\n",
              "        vertical-align: middle;\n",
              "    }\n",
              "\n",
              "    .dataframe tbody tr th {\n",
              "        vertical-align: top;\n",
              "    }\n",
              "\n",
              "    .dataframe thead th {\n",
              "        text-align: right;\n",
              "    }\n",
              "</style>\n",
              "<table border=\"1\" class=\"dataframe\">\n",
              "  <thead>\n",
              "    <tr style=\"text-align: right;\">\n",
              "      <th></th>\n",
              "      <th>index</th>\n",
              "      <th>Unnamed: 0</th>\n",
              "      <th>Sl. No.</th>\n",
              "      <th>YEAR</th>\n",
              "      <th>MONTH</th>\n",
              "      <th>DATE</th>\n",
              "      <th>LAT (N)</th>\n",
              "      <th>LONG (E)</th>\n",
              "      <th>DEPTH (km)</th>\n",
              "      <th>REFERENCE</th>\n",
              "      <th>target</th>\n",
              "    </tr>\n",
              "  </thead>\n",
              "  <tbody>\n",
              "    <tr>\n",
              "      <th>index</th>\n",
              "      <td>1.000000</td>\n",
              "      <td>1.000000</td>\n",
              "      <td>1.000000</td>\n",
              "      <td>0.622441</td>\n",
              "      <td>-0.020265</td>\n",
              "      <td>0.050180</td>\n",
              "      <td>0.051797</td>\n",
              "      <td>-0.055603</td>\n",
              "      <td>-0.173055</td>\n",
              "      <td>0.007918</td>\n",
              "      <td>-0.156246</td>\n",
              "    </tr>\n",
              "    <tr>\n",
              "      <th>Unnamed: 0</th>\n",
              "      <td>1.000000</td>\n",
              "      <td>1.000000</td>\n",
              "      <td>1.000000</td>\n",
              "      <td>0.622444</td>\n",
              "      <td>-0.020265</td>\n",
              "      <td>0.050181</td>\n",
              "      <td>0.051793</td>\n",
              "      <td>-0.055602</td>\n",
              "      <td>-0.173056</td>\n",
              "      <td>0.007925</td>\n",
              "      <td>-0.156250</td>\n",
              "    </tr>\n",
              "    <tr>\n",
              "      <th>Sl. No.</th>\n",
              "      <td>1.000000</td>\n",
              "      <td>1.000000</td>\n",
              "      <td>1.000000</td>\n",
              "      <td>0.622441</td>\n",
              "      <td>-0.020265</td>\n",
              "      <td>0.050181</td>\n",
              "      <td>0.051793</td>\n",
              "      <td>-0.055601</td>\n",
              "      <td>-0.173056</td>\n",
              "      <td>0.007925</td>\n",
              "      <td>-0.156250</td>\n",
              "    </tr>\n",
              "    <tr>\n",
              "      <th>YEAR</th>\n",
              "      <td>0.622441</td>\n",
              "      <td>0.622444</td>\n",
              "      <td>0.622441</td>\n",
              "      <td>1.000000</td>\n",
              "      <td>-0.012319</td>\n",
              "      <td>0.044418</td>\n",
              "      <td>-0.048112</td>\n",
              "      <td>0.015193</td>\n",
              "      <td>-0.046743</td>\n",
              "      <td>0.105167</td>\n",
              "      <td>-0.157970</td>\n",
              "    </tr>\n",
              "    <tr>\n",
              "      <th>MONTH</th>\n",
              "      <td>-0.020265</td>\n",
              "      <td>-0.020265</td>\n",
              "      <td>-0.020265</td>\n",
              "      <td>-0.012319</td>\n",
              "      <td>1.000000</td>\n",
              "      <td>0.003526</td>\n",
              "      <td>0.021127</td>\n",
              "      <td>-0.001054</td>\n",
              "      <td>0.007936</td>\n",
              "      <td>-0.019499</td>\n",
              "      <td>0.009420</td>\n",
              "    </tr>\n",
              "    <tr>\n",
              "      <th>DATE</th>\n",
              "      <td>0.050180</td>\n",
              "      <td>0.050181</td>\n",
              "      <td>0.050181</td>\n",
              "      <td>0.044418</td>\n",
              "      <td>0.003526</td>\n",
              "      <td>1.000000</td>\n",
              "      <td>0.005700</td>\n",
              "      <td>-0.011969</td>\n",
              "      <td>-0.036291</td>\n",
              "      <td>0.016232</td>\n",
              "      <td>0.039692</td>\n",
              "    </tr>\n",
              "    <tr>\n",
              "      <th>LAT (N)</th>\n",
              "      <td>0.051797</td>\n",
              "      <td>0.051793</td>\n",
              "      <td>0.051793</td>\n",
              "      <td>-0.048112</td>\n",
              "      <td>0.021127</td>\n",
              "      <td>0.005700</td>\n",
              "      <td>1.000000</td>\n",
              "      <td>-0.602349</td>\n",
              "      <td>-0.056259</td>\n",
              "      <td>-0.880090</td>\n",
              "      <td>-0.106837</td>\n",
              "    </tr>\n",
              "    <tr>\n",
              "      <th>LONG (E)</th>\n",
              "      <td>-0.055603</td>\n",
              "      <td>-0.055602</td>\n",
              "      <td>-0.055601</td>\n",
              "      <td>0.015193</td>\n",
              "      <td>-0.001054</td>\n",
              "      <td>-0.011969</td>\n",
              "      <td>-0.602349</td>\n",
              "      <td>1.000000</td>\n",
              "      <td>0.050800</td>\n",
              "      <td>0.529044</td>\n",
              "      <td>0.068310</td>\n",
              "    </tr>\n",
              "    <tr>\n",
              "      <th>DEPTH (km)</th>\n",
              "      <td>-0.173055</td>\n",
              "      <td>-0.173056</td>\n",
              "      <td>-0.173056</td>\n",
              "      <td>-0.046743</td>\n",
              "      <td>0.007936</td>\n",
              "      <td>-0.036291</td>\n",
              "      <td>-0.056259</td>\n",
              "      <td>0.050800</td>\n",
              "      <td>1.000000</td>\n",
              "      <td>-0.055841</td>\n",
              "      <td>-0.078122</td>\n",
              "    </tr>\n",
              "    <tr>\n",
              "      <th>REFERENCE</th>\n",
              "      <td>0.007918</td>\n",
              "      <td>0.007925</td>\n",
              "      <td>0.007925</td>\n",
              "      <td>0.105167</td>\n",
              "      <td>-0.019499</td>\n",
              "      <td>0.016232</td>\n",
              "      <td>-0.880090</td>\n",
              "      <td>0.529044</td>\n",
              "      <td>-0.055841</td>\n",
              "      <td>1.000000</td>\n",
              "      <td>0.118641</td>\n",
              "    </tr>\n",
              "    <tr>\n",
              "      <th>target</th>\n",
              "      <td>-0.156246</td>\n",
              "      <td>-0.156250</td>\n",
              "      <td>-0.156250</td>\n",
              "      <td>-0.157970</td>\n",
              "      <td>0.009420</td>\n",
              "      <td>0.039692</td>\n",
              "      <td>-0.106837</td>\n",
              "      <td>0.068310</td>\n",
              "      <td>-0.078122</td>\n",
              "      <td>0.118641</td>\n",
              "      <td>1.000000</td>\n",
              "    </tr>\n",
              "  </tbody>\n",
              "</table>\n",
              "</div>"
            ],
            "text/plain": [
              "               index  Unnamed: 0   Sl. No.  ...  DEPTH (km)  REFERENCE    target\n",
              "index       1.000000    1.000000  1.000000  ...   -0.173055   0.007918 -0.156246\n",
              "Unnamed: 0  1.000000    1.000000  1.000000  ...   -0.173056   0.007925 -0.156250\n",
              "Sl. No.     1.000000    1.000000  1.000000  ...   -0.173056   0.007925 -0.156250\n",
              "YEAR        0.622441    0.622444  0.622441  ...   -0.046743   0.105167 -0.157970\n",
              "MONTH      -0.020265   -0.020265 -0.020265  ...    0.007936  -0.019499  0.009420\n",
              "DATE        0.050180    0.050181  0.050181  ...   -0.036291   0.016232  0.039692\n",
              "LAT (N)     0.051797    0.051793  0.051793  ...   -0.056259  -0.880090 -0.106837\n",
              "LONG (E)   -0.055603   -0.055602 -0.055601  ...    0.050800   0.529044  0.068310\n",
              "DEPTH (km) -0.173055   -0.173056 -0.173056  ...    1.000000  -0.055841 -0.078122\n",
              "REFERENCE   0.007918    0.007925  0.007925  ...   -0.055841   1.000000  0.118641\n",
              "target     -0.156246   -0.156250 -0.156250  ...   -0.078122   0.118641  1.000000\n",
              "\n",
              "[11 rows x 11 columns]"
            ]
          },
          "metadata": {
            "tags": []
          },
          "execution_count": 368
        }
      ]
    },
    {
      "cell_type": "code",
      "metadata": {
        "id": "Zg_trY-i0jI0"
      },
      "source": [
        "from sklearn.neighbors import KNeighborsClassifier\n",
        "from sklearn.model_selection import train_test_split\n",
        "from sklearn import metrics"
      ],
      "execution_count": null,
      "outputs": []
    },
    {
      "cell_type": "code",
      "metadata": {
        "id": "foUdOiUx0zFX",
        "outputId": "30c0f508-403d-4221-8019-8a56e8fb1401",
        "colab": {
          "base_uri": "https://localhost:8080/",
          "height": 68
        }
      },
      "source": [
        "model = KNeighborsClassifier(n_neighbors=29)\n",
        "features = df[['YEAR','DEPTH (km)','MONTH','LONG (E)','LAT (N)']]\n",
        "# ,,\n",
        "label = df['target']\n",
        "X_train, X_test, y_train, y_test = train_test_split(features, label, train_size=0.80,test_size=0.20, random_state=1)\n",
        "model.fit(X_train,y_train)"
      ],
      "execution_count": null,
      "outputs": [
        {
          "output_type": "execute_result",
          "data": {
            "text/plain": [
              "KNeighborsClassifier(algorithm='auto', leaf_size=30, metric='minkowski',\n",
              "                     metric_params=None, n_jobs=None, n_neighbors=29, p=2,\n",
              "                     weights='uniform')"
            ]
          },
          "metadata": {
            "tags": []
          },
          "execution_count": 370
        }
      ]
    },
    {
      "cell_type": "code",
      "metadata": {
        "id": "uiXlavRU5IMJ"
      },
      "source": [
        ""
      ],
      "execution_count": null,
      "outputs": []
    },
    {
      "cell_type": "code",
      "metadata": {
        "id": "Ekmni0MP5P7P"
      },
      "source": [
        ""
      ],
      "execution_count": null,
      "outputs": []
    },
    {
      "cell_type": "code",
      "metadata": {
        "id": "d10WZLNV1CWJ"
      },
      "source": [
        "y_pred = model.predict(X_test)"
      ],
      "execution_count": null,
      "outputs": []
    },
    {
      "cell_type": "code",
      "metadata": {
        "id": "EUK3GgR92VkA",
        "outputId": "c6e0d5dd-1ffb-4dd4-8df0-c1eb8c82795f",
        "colab": {
          "base_uri": "https://localhost:8080/",
          "height": 68
        }
      },
      "source": [
        "print(metrics.accuracy_score(y_test,y_pred))\n",
        "print(metrics.confusion_matrix(y_test,y_pred))"
      ],
      "execution_count": null,
      "outputs": [
        {
          "output_type": "stream",
          "text": [
            "0.6928894023737002\n",
            "[[3216 1413]\n",
            " [1511 3381]]\n"
          ],
          "name": "stdout"
        }
      ]
    },
    {
      "cell_type": "code",
      "metadata": {
        "id": "KOdqQWwY3P9a"
      },
      "source": [
        "from sklearn.tree import DecisionTreeClassifier\n",
        "from sklearn.metrics import  roc_curve\n",
        "from sklearn.metrics import  auc"
      ],
      "execution_count": null,
      "outputs": []
    },
    {
      "cell_type": "code",
      "metadata": {
        "id": "GvmMqzCj3eV4",
        "outputId": "0599c4de-b0ae-4365-c34c-64590cb52a50",
        "colab": {
          "base_uri": "https://localhost:8080/",
          "height": 68
        }
      },
      "source": [
        "model2 = DecisionTreeClassifier(max_depth=10)\n",
        "model2.fit(X_train,y_train)\n",
        "y_pred = model2.predict(X_test)\n",
        "print(metrics.accuracy_score(y_test,y_pred))\n",
        "print(metrics.confusion_matrix(y_test,y_pred))\n"
      ],
      "execution_count": null,
      "outputs": [
        {
          "output_type": "stream",
          "text": [
            "0.6915239995798761\n",
            "[[3415 1214]\n",
            " [1723 3169]]\n"
          ],
          "name": "stdout"
        }
      ]
    },
    {
      "cell_type": "code",
      "metadata": {
        "id": "z2NtPHTA4Xfw",
        "outputId": "42c2473c-761c-4cee-dd58-3f74b525e0ec",
        "colab": {
          "base_uri": "https://localhost:8080/",
          "height": 142
        }
      },
      "source": [
        " df.groupby('target').count()"
      ],
      "execution_count": null,
      "outputs": [
        {
          "output_type": "execute_result",
          "data": {
            "text/html": [
              "<div>\n",
              "<style scoped>\n",
              "    .dataframe tbody tr th:only-of-type {\n",
              "        vertical-align: middle;\n",
              "    }\n",
              "\n",
              "    .dataframe tbody tr th {\n",
              "        vertical-align: top;\n",
              "    }\n",
              "\n",
              "    .dataframe thead th {\n",
              "        text-align: right;\n",
              "    }\n",
              "</style>\n",
              "<table border=\"1\" class=\"dataframe\">\n",
              "  <thead>\n",
              "    <tr style=\"text-align: right;\">\n",
              "      <th></th>\n",
              "      <th>index</th>\n",
              "      <th>Unnamed: 0</th>\n",
              "      <th>Sl. No.</th>\n",
              "      <th>YEAR</th>\n",
              "      <th>MONTH</th>\n",
              "      <th>DATE</th>\n",
              "      <th>LAT (N)</th>\n",
              "      <th>LONG (E)</th>\n",
              "      <th>DEPTH (km)</th>\n",
              "      <th>REFERENCE</th>\n",
              "    </tr>\n",
              "    <tr>\n",
              "      <th>target</th>\n",
              "      <th></th>\n",
              "      <th></th>\n",
              "      <th></th>\n",
              "      <th></th>\n",
              "      <th></th>\n",
              "      <th></th>\n",
              "      <th></th>\n",
              "      <th></th>\n",
              "      <th></th>\n",
              "      <th></th>\n",
              "    </tr>\n",
              "  </thead>\n",
              "  <tbody>\n",
              "    <tr>\n",
              "      <th>0</th>\n",
              "      <td>23167</td>\n",
              "      <td>23167</td>\n",
              "      <td>23167</td>\n",
              "      <td>23167</td>\n",
              "      <td>23167</td>\n",
              "      <td>23167</td>\n",
              "      <td>23167</td>\n",
              "      <td>23167</td>\n",
              "      <td>23167</td>\n",
              "      <td>23167</td>\n",
              "    </tr>\n",
              "    <tr>\n",
              "      <th>1</th>\n",
              "      <td>24436</td>\n",
              "      <td>24436</td>\n",
              "      <td>24436</td>\n",
              "      <td>24436</td>\n",
              "      <td>24436</td>\n",
              "      <td>24436</td>\n",
              "      <td>24436</td>\n",
              "      <td>24436</td>\n",
              "      <td>24436</td>\n",
              "      <td>24436</td>\n",
              "    </tr>\n",
              "  </tbody>\n",
              "</table>\n",
              "</div>"
            ],
            "text/plain": [
              "        index  Unnamed: 0  Sl. No.  ...  LONG (E)  DEPTH (km)  REFERENCE\n",
              "target                              ...                                 \n",
              "0       23167       23167    23167  ...     23167       23167      23167\n",
              "1       24436       24436    24436  ...     24436       24436      24436\n",
              "\n",
              "[2 rows x 10 columns]"
            ]
          },
          "metadata": {
            "tags": []
          },
          "execution_count": 375
        }
      ]
    },
    {
      "cell_type": "markdown",
      "metadata": {
        "id": "76VThoxK8MTs"
      },
      "source": [
        "Selecting the optimal value for threshold..initially tried with 4 got good accuracy but then realised that number of 0 values were only about 5000 which means the model was overfit on the value 1, hence changed the threshold to 4.5 which gave almost similar values of 0's and 1's as can be seen in the table above"
      ]
    },
    {
      "cell_type": "code",
      "metadata": {
        "id": "BgYXPAhpBdwf"
      },
      "source": [
        "def knn(k,X,y):\n",
        "    model = KNeighborsClassifier(n_neighbors=k)\n",
        "    model.fit(X, y)\n",
        "    return model"
      ],
      "execution_count": null,
      "outputs": []
    },
    {
      "cell_type": "code",
      "metadata": {
        "id": "DXWPxFG63cnV",
        "outputId": "588d001e-dd78-4e3e-e0b1-04d01d0f0d5b",
        "colab": {
          "base_uri": "https://localhost:8080/",
          "height": 1000
        }
      },
      "source": [
        "from itertools import cycle\n",
        "plt.rcParams[\"figure.figsize\"] = (20,15)\n",
        "# Plot all ROC curves for KNN\n",
        "knn_range = 100\n",
        "plt.figure()\n",
        "lw = 2\n",
        "maxarea = 0\n",
        "value = 0\n",
        "colors = cycle(['orange', 'purple', 'pink','yellow','blue'])\n",
        "for i, color in zip(range(knn_range), colors):\n",
        "    if  i%6 == 0 or i%6 == 4 or i%6 == 2:\n",
        "        nodes=i+1\n",
        "        model = knn(nodes,X_train,y_train)\n",
        "        y_score = model.predict_proba(X_test)[:,1]\n",
        "        fpr,tpr,_ = roc_curve(y_test, y_score)\n",
        "        area = auc(fpr,tpr)\n",
        "        print(\"Score for model with k {}: {} area{}\".format(nodes,model.score(X_test,y_test),area))\n",
        "        plt.plot(fpr, tpr, color=color, lw=lw,\n",
        "                 label='KNN with value of k = {0} (area = {1:0.2f})'\n",
        "                 ''.format(nodes, area))\n",
        "\n",
        "plt.plot([0, 1], [0, 1], 'k--', lw=lw)\n",
        "plt.xlim([0.0, 1.0])\n",
        "plt.ylim([0.0, 1.05])\n",
        "plt.xlabel('False Positive')\n",
        "plt.ylabel('True Positive')\n",
        "plt.title('KNN')\n",
        "plt.legend(loc=\"lower right\")\n",
        "plt.savefig('knn.png')\n",
        "plt.show()"
      ],
      "execution_count": null,
      "outputs": [
        {
          "output_type": "stream",
          "text": [
            "Score for model with k 1: 0.6379581976683122 area0.637254920144201\n",
            "Score for model with k 3: 0.6585442705598151 area0.7016876919954491\n",
            "Score for model with k 5: 0.6685222140531457 area0.7226701196039685\n",
            "Score for model with k 7: 0.674193887196723 area0.731975611643118\n",
            "Score for model with k 9: 0.6760844449112489 area0.740399366431578\n",
            "Score for model with k 11: 0.680390715261002 area0.7452259803326711\n",
            "Score for model with k 13: 0.6809158701817036 area0.7473320680688617\n",
            "Score for model with k 15: 0.6834366138010713 area0.7512638292806186\n",
            "Score for model with k 17: 0.6859573574204391 area0.7538777759466212\n",
            "Score for model with k 19: 0.6857472954521584 area0.7562627323530229\n",
            "Score for model with k 21: 0.6884781010398068 area0.7582886481065104\n",
            "Score for model with k 23: 0.6901585967860518 area0.7586145248051364\n",
            "Score for model with k 25: 0.6922592164688584 area0.7586609366772491\n",
            "Score for model with k 27: 0.6920491545005777 area0.7599005664279744\n",
            "Score for model with k 29: 0.6928894023737002 area0.7606686365437278\n",
            "Score for model with k 31: 0.6937296502468228 area0.7612407037152638\n",
            "Score for model with k 33: 0.6928894023737002 area0.7617350939286205\n",
            "Score for model with k 35: 0.6946749291040857 area0.7627793389712939\n",
            "Score for model with k 37: 0.694464867135805 area0.7634121920057825\n",
            "Score for model with k 39: 0.6934145572944018 area0.7630825617304395\n",
            "Score for model with k 41: 0.6943598361516647 area0.7636357285392121\n",
            "Score for model with k 43: 0.6975107656758743 area0.7641606993628812\n",
            "Score for model with k 45: 0.6936246192626825 area0.7641063166602104\n",
            "Score for model with k 47: 0.6936246192626825 area0.7641860912053785\n",
            "Score for model with k 49: 0.6943598361516647 area0.7640323711988853\n",
            "Score for model with k 51: 0.6947799600882261 area0.7635890517087429\n",
            "Score for model with k 53: 0.694464867135805 area0.7633454224999456\n",
            "Score for model with k 55: 0.6939397122151034 area0.7629585170598737\n",
            "Score for model with k 57: 0.6958302699296293 area0.762983864742645\n",
            "Score for model with k 59: 0.6954101459930679 area0.7631247342688484\n",
            "Score for model with k 61: 0.691208906627455 area0.7633111545525058\n",
            "Score for model with k 63: 0.6948849910723663 area0.7634647641596836\n",
            "Score for model with k 65: 0.6952000840247873 area0.7631937780005783\n",
            "Score for model with k 67: 0.6929944333578406 area0.7630746571394708\n",
            "Score for model with k 69: 0.6909988446591745 area0.7630260152011908\n",
            "Score for model with k 71: 0.692154185484718 area0.7628198775998376\n",
            "Score for model with k 73: 0.692154185484718 area0.7626210925928772\n",
            "Score for model with k 75: 0.6936246192626825 area0.7626789859937714\n",
            "Score for model with k 77: 0.6916290305640164 area0.7624923449114837\n",
            "Score for model with k 79: 0.6922592164688584 area0.7623350038074517\n",
            "Score for model with k 81: 0.6919441235164373 area0.7624151537102914\n",
            "Score for model with k 83: 0.6915239995798761 area0.7622605946690025\n",
            "Score for model with k 85: 0.691839092532297 area0.7619947310381228\n",
            "Score for model with k 87: 0.6916290305640164 area0.7615675077681375\n",
            "Score for model with k 89: 0.6932044953261212 area0.7612683477037915\n",
            "Score for model with k 91: 0.6930994643419809 area0.7612977360014993\n",
            "Score for model with k 93: 0.6924692784371389 area0.7612073631220715\n",
            "Score for model with k 95: 0.6934145572944018 area0.7609086004952602\n",
            "Score for model with k 97: 0.6939397122151034 area0.7609955509959165\n",
            "Score for model with k 99: 0.6930994643419809 area0.7607440392760136\n"
          ],
          "name": "stdout"
        },
        {
          "output_type": "display_data",
          "data": {
            "image/png": "[encoded data removed]",
            "text/plain": [
              "<Figure size 1440x1080 with 1 Axes>"
            ]
          },
          "metadata": {
            "tags": [],
            "needs_background": "light"
          }
        }
      ]
    },
    {
      "cell_type": "code",
      "metadata": {
        "id": "SGq9KwMA4Bd4"
      },
      "source": [
        "def DT(k,X,y):\n",
        "  model = DecisionTreeClassifier(max_depth=k)\n",
        "  model.fit(X, y)\n",
        "  return model"
      ],
      "execution_count": null,
      "outputs": []
    },
    {
      "cell_type": "code",
      "metadata": {
        "id": "nk9trUZ7LAwW",
        "outputId": "486c9eb0-f150-478f-868c-f683c56492fd",
        "colab": {
          "base_uri": "https://localhost:8080/",
          "height": 265
        }
      },
      "source": [
        "from itertools import cycle\n",
        "plt.rcParams[\"figure.figsize\"] = (20,15)\n",
        "# Plot all ROC curves for KNN\n",
        "knn_range = 100\n",
        "plt.figure()\n",
        "lw = 2\n",
        "colors = cycle(['blue', 'black', 'yellow','green','red'])\n",
        "for i, color in zip(range(knn_range), colors):\n",
        "    if (True):\n",
        "        nodes=i+1\n",
        "        model = DT(nodes,X_train,y_train)\n",
        "        y_score = model.predict_proba(X_test)[:,1]\n",
        "        fpr,tpr,_ = roc_curve(y_test, y_score)\n",
        "        area = auc(fpr,tpr)\n",
        "        print(\"Score for model with k {}: {}, area{}\".format(nodes,model.score(X_test,y_test),area))\n",
        "        plt.plot(fpr, t70pr, color=color, lw=lw,label='Decision Tree with max depth k = {0} (area = {1:0.2f})'\n",
        "                 ''.format(nodes, area))\n",
        "\n",
        "plt.plot([0, 1], [0, 1], 'k--', lw=lw)\n",
        "plt.xlim([0.0, 1.0])\n",
        "plt.ylim([0.0, 1.05])\n",
        "plt.xlabel('False Positive')\n",
        "plt.ylabel('True Positive')\n",
        "plt.title('Decision Tree Classifier')\n",
        "plt.legend(loc=\"lower right\")\n",
        "plt.savefig('DCT.png')\n",
        "plt.show()"
      ],
      "execution_count": null,
      "outputs": [
        {
          "output_type": "stream",
          "text": [
            "Score for model with k 1: 0.5873332633126772, area0.595342482522022\n"
          ],
          "name": "stdout"
        },
        {
          "output_type": "error",
          "ename": "NameError",
          "evalue": "ignored",
          "traceback": [
            "\u001b[0;31m---------------------------------------------------------------------------\u001b[0m",
            "\u001b[0;31mNameError\u001b[0m                                 Traceback (most recent call last)",
            "\u001b[0;32m<ipython-input-384-ba0bff401bc2>\u001b[0m in \u001b[0;36m<module>\u001b[0;34m()\u001b[0m\n\u001b[1;32m     14\u001b[0m         \u001b[0marea\u001b[0m \u001b[0;34m=\u001b[0m \u001b[0mauc\u001b[0m\u001b[0;34m(\u001b[0m\u001b[0mfpr\u001b[0m\u001b[0;34m,\u001b[0m\u001b[0mtpr\u001b[0m\u001b[0;34m)\u001b[0m\u001b[0;34m\u001b[0m\u001b[0;34m\u001b[0m\u001b[0m\n\u001b[1;32m     15\u001b[0m         \u001b[0mprint\u001b[0m\u001b[0;34m(\u001b[0m\u001b[0;34m\"Score for model with k {}: {}, area{}\"\u001b[0m\u001b[0;34m.\u001b[0m\u001b[0mformat\u001b[0m\u001b[0;34m(\u001b[0m\u001b[0mnodes\u001b[0m\u001b[0;34m,\u001b[0m\u001b[0mmodel\u001b[0m\u001b[0;34m.\u001b[0m\u001b[0mscore\u001b[0m\u001b[0;34m(\u001b[0m\u001b[0mX_test\u001b[0m\u001b[0;34m,\u001b[0m\u001b[0my_test\u001b[0m\u001b[0;34m)\u001b[0m\u001b[0;34m,\u001b[0m\u001b[0marea\u001b[0m\u001b[0;34m)\u001b[0m\u001b[0;34m)\u001b[0m\u001b[0;34m\u001b[0m\u001b[0;34m\u001b[0m\u001b[0m\n\u001b[0;32m---> 16\u001b[0;31m         plt.plot(fpr, t70pr, color=color, lw=lw,\n\u001b[0m\u001b[1;32m     17\u001b[0m                  \u001b[0mlabel\u001b[0m\u001b[0;34m=\u001b[0m\u001b[0;34m'Decision Tree with max depth k = {0} (area = {1:0.2f})'\u001b[0m\u001b[0;34m\u001b[0m\u001b[0;34m\u001b[0m\u001b[0m\n\u001b[1;32m     18\u001b[0m                  ''.format(nodes, area))\n",
            "\u001b[0;31mNameError\u001b[0m: name 't70pr' is not defined"
          ]
        },
        {
          "output_type": "display_data",
          "data": {
            "text/plain": [
              "<Figure size 1440x1080 with 0 Axes>"
            ]
          },
          "metadata": {
            "tags": []
          }
        }
      ]
    },
    {
      "cell_type": "code",
      "metadata": {
        "id": "68gOGFwMMFRU",
        "outputId": "6d6615f4-362f-414f-800b-a77f7be2a209",
        "colab": {
          "base_uri": "https://localhost:8080/",
          "height": 476
        }
      },
      "source": [
        "model1 = DecisionTreeClassifier(max_depth=8)\n",
        "model2 = KNeighborsClassifier(n_neighbors=39)\n",
        "model1.fit(X_train,y_train)\n",
        "model2.fit(X_train,y_train)\n",
        "pred1 = model1.predict(X_test)\n",
        "pred2 = model2.predict(X_test)\n",
        "print(\"Decision Tree\")\n",
        "print(metrics.confusion_matrix(y_test,pred1))\n",
        "print(metrics.accuracy_score(y_test,pred1))\n",
        "print(metrics.classification_report(y_test,pred1))\n",
        "print(\"------------------------------------------------------------\")\n",
        "print(\"KNN\")\n",
        "print(metrics.confusion_matrix(y_test,pred2))\n",
        "print(metrics.accuracy_score(y_test,pred2))\n",
        "print(metrics.classification_report(y_test,pred2))"
      ],
      "execution_count": null,
      "outputs": [
        {
          "output_type": "stream",
          "text": [
            "Decision Tree\n",
            "[[3309 1320]\n",
            " [1667 3225]]\n",
            "0.68627245037286\n",
            "              precision    recall  f1-score   support\n",
            "\n",
            "           0       0.66      0.71      0.69      4629\n",
            "           1       0.71      0.66      0.68      4892\n",
            "\n",
            "    accuracy                           0.69      9521\n",
            "   macro avg       0.69      0.69      0.69      9521\n",
            "weighted avg       0.69      0.69      0.69      9521\n",
            "\n",
            "------------------------------------------------------------\n",
            "KNN\n",
            "[[3207 1422]\n",
            " [1497 3395]]\n",
            "0.6934145572944018\n",
            "              precision    recall  f1-score   support\n",
            "\n",
            "           0       0.68      0.69      0.69      4629\n",
            "           1       0.70      0.69      0.70      4892\n",
            "\n",
            "    accuracy                           0.69      9521\n",
            "   macro avg       0.69      0.69      0.69      9521\n",
            "weighted avg       0.69      0.69      0.69      9521\n",
            "\n"
          ],
          "name": "stdout"
        }
      ]
    },
    {
      "cell_type": "code",
      "metadata": {
        "id": "GSdY2061bwQS"
      },
      "source": [
        ""
      ],
      "execution_count": null,
      "outputs": []
    }
  ]
}